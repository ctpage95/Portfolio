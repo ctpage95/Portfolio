{
 "cells": [
  {
   "cell_type": "markdown",
   "metadata": {},
   "source": [
    "# Midterm 1: Take-home portion\n",
    "\n",
    "## Part 1: Baby Names"
   ]
  },
  {
   "cell_type": "code",
   "execution_count": 105,
   "metadata": {},
   "outputs": [],
   "source": [
    "# Import packages\n",
    "import pandas as pd\n",
    "import numpy as np\n",
    "import seaborn as sns\n",
    "import matplotlib.pyplot as plt\n",
    "from operator import truediv \n",
    "from string import digits"
   ]
  },
  {
   "cell_type": "code",
   "execution_count": 35,
   "metadata": {},
   "outputs": [],
   "source": [
    "babys = pd.read_csv('babynames.csv')"
   ]
  },
  {
   "cell_type": "markdown",
   "metadata": {},
   "source": [
    "### 1. In the song “A Boy Named Sue” country singer Johnny Cash famously told the story of a boy toughened in life by being given a girl’s name. Is being a boy named Sue actually a rare ocurrence ?\n",
    "\n",
    "    (a) Compute the ratio of the total number of girls named Sue and the total number of boys named Sue. How much more common is Sue as name for girls than as a name for boys?\n",
    "\n",
    "    (b) Compute the ratio of the total number of girl’s named Sue and the total number of boy’s named Sue by year. Plot this ratio by year. Johnny Cash’s song was released in 1969. Do you see any changes in the ratio around that time (or any other time)?\n",
    "    \n",
    "#### *** Overall, I would say that the name 'Sue' for a boy is in fact a rare occurance. ***"
   ]
  },
  {
   "cell_type": "markdown",
   "metadata": {},
   "source": [
    "### 1(a) Compute the ratio of the total number of girls named Sue and the total number of boys named Sue. How much more common is Sue as name for girls than as a name for boys?\n",
    "\n",
    "    - By taking the proportions of the name 'Sue' by gender, we found that the sum of the proportions for females  named 'Sue' was about .11, while the proportion for men named 'Sue' was 0.0003, making it about 367 times more  likely for a female to be named Sue than a male."
   ]
  },
  {
   "cell_type": "code",
   "execution_count": 36,
   "metadata": {},
   "outputs": [],
   "source": [
    "sue_df = babys[babys['name'] == 'Sue']"
   ]
  },
  {
   "cell_type": "code",
   "execution_count": 37,
   "metadata": {},
   "outputs": [
    {
     "data": {
      "text/html": [
       "<div>\n",
       "<style scoped>\n",
       "    .dataframe tbody tr th:only-of-type {\n",
       "        vertical-align: middle;\n",
       "    }\n",
       "\n",
       "    .dataframe tbody tr th {\n",
       "        vertical-align: top;\n",
       "    }\n",
       "\n",
       "    .dataframe thead th {\n",
       "        text-align: right;\n",
       "    }\n",
       "</style>\n",
       "<table border=\"1\" class=\"dataframe\">\n",
       "  <thead>\n",
       "    <tr style=\"text-align: right;\">\n",
       "      <th></th>\n",
       "      <th>sex</th>\n",
       "      <th>prop</th>\n",
       "    </tr>\n",
       "  </thead>\n",
       "  <tbody>\n",
       "    <tr>\n",
       "      <th>0</th>\n",
       "      <td>F</td>\n",
       "      <td>0.110445</td>\n",
       "    </tr>\n",
       "    <tr>\n",
       "      <th>1</th>\n",
       "      <td>M</td>\n",
       "      <td>0.000327</td>\n",
       "    </tr>\n",
       "  </tbody>\n",
       "</table>\n",
       "</div>"
      ],
      "text/plain": [
       "  sex      prop\n",
       "0   F  0.110445\n",
       "1   M  0.000327"
      ]
     },
     "execution_count": 37,
     "metadata": {},
     "output_type": "execute_result"
    }
   ],
   "source": [
    "sue_df.groupby(['sex'])['prop'].sum().reset_index()"
   ]
  },
  {
   "cell_type": "markdown",
   "metadata": {},
   "source": [
    "### 1(b) Compute the ratio of the total number of girl’s named Sue and the total number of boy’s named Sue by year. Plot this ratio by year. Johnny Cash’s song was released in 1969. Do you see any changes in the ratio around that time (or any other time)?\n",
    "    \n",
    "    - By observing the plot, there does not appear to be any kind of increase in the number of boys named 'Sue'    after the song release in 1969. The most common timeframe that there appears to be an influx of boys named Sue is between the years 1930 and 1950."
   ]
  },
  {
   "cell_type": "code",
   "execution_count": 5,
   "metadata": {},
   "outputs": [],
   "source": [
    "props_year = pd.DataFrame(sue_df.groupby(['year','sex'])['prop'].sum()).reset_index()"
   ]
  },
  {
   "cell_type": "code",
   "execution_count": 6,
   "metadata": {},
   "outputs": [
    {
     "data": {
      "text/plain": [
       "<BarContainer object of 52 artists>"
      ]
     },
     "execution_count": 6,
     "metadata": {},
     "output_type": "execute_result"
    },
    {
     "data": {
      "image/png": "[encoded data removed]",
      "text/plain": [
       "<Figure size 432x288 with 1 Axes>"
      ]
     },
     "metadata": {
      "needs_background": "light"
     },
     "output_type": "display_data"
    }
   ],
   "source": [
    "sue_M = sue_df[sue_df['sex'] == 'M']\n",
    "sue_F = sue_df[sue_df['sex'] == 'F']\n",
    "plt.bar(sue_F['year'], sue_F['prop'])\n",
    "plt.bar(sue_M['year'], sue_M['prop'])"
   ]
  },
  {
   "cell_type": "markdown",
   "metadata": {},
   "source": [
    "### 2. Repeat problem (1) with your own name? Is your name more popular for females than for males? Is there any change in the gender preference ratio over time?\n",
    "\n",
    "    - The name Cameron is much more of a common occurance for boys than it is for girls. I have always thought that 'Cameron' was pretty evenly distibutred amongst the two genders, but this data shows that it is approximately 9.65 times more likely for boys to have the name than girls. \n",
    "    \n",
    "    - The name was most popular around the years 1995-2000 (I was born in 1995) and has slowly started to decrease in popularity since. The trends are about equal for boys and girls, both increasing and decreasing around the same times."
   ]
  },
  {
   "cell_type": "code",
   "execution_count": 7,
   "metadata": {},
   "outputs": [
    {
     "data": {
      "text/html": [
       "<div>\n",
       "<style scoped>\n",
       "    .dataframe tbody tr th:only-of-type {\n",
       "        vertical-align: middle;\n",
       "    }\n",
       "\n",
       "    .dataframe tbody tr th {\n",
       "        vertical-align: top;\n",
       "    }\n",
       "\n",
       "    .dataframe thead th {\n",
       "        text-align: right;\n",
       "    }\n",
       "</style>\n",
       "<table border=\"1\" class=\"dataframe\">\n",
       "  <thead>\n",
       "    <tr style=\"text-align: right;\">\n",
       "      <th></th>\n",
       "      <th>sex</th>\n",
       "      <th>prop</th>\n",
       "    </tr>\n",
       "  </thead>\n",
       "  <tbody>\n",
       "    <tr>\n",
       "      <th>0</th>\n",
       "      <td>F</td>\n",
       "      <td>0.013952</td>\n",
       "    </tr>\n",
       "    <tr>\n",
       "      <th>1</th>\n",
       "      <td>M</td>\n",
       "      <td>0.134661</td>\n",
       "    </tr>\n",
       "  </tbody>\n",
       "</table>\n",
       "</div>"
      ],
      "text/plain": [
       "  sex      prop\n",
       "0   F  0.013952\n",
       "1   M  0.134661"
      ]
     },
     "execution_count": 7,
     "metadata": {},
     "output_type": "execute_result"
    }
   ],
   "source": [
    "cam_df = babys[babys['name'] == 'Cameron']\n",
    "cam_df.groupby(['sex'])['prop'].sum().reset_index()"
   ]
  },
  {
   "cell_type": "code",
   "execution_count": 8,
   "metadata": {},
   "outputs": [
    {
     "data": {
      "text/plain": [
       "<BarContainer object of 81 artists>"
      ]
     },
     "execution_count": 8,
     "metadata": {},
     "output_type": "execute_result"
    },
    {
     "data": {
      "image/png": "[encoded data removed]",
      "text/plain": [
       "<Figure size 432x288 with 1 Axes>"
      ]
     },
     "metadata": {
      "needs_background": "light"
     },
     "output_type": "display_data"
    }
   ],
   "source": [
    "cam_M = cam_df[cam_df['sex'] == 'M']\n",
    "cam_F = cam_df[cam_df['sex'] == 'F']\n",
    "plt.bar(cam_M['year'], cam_M['prop'])\n",
    "plt.bar(cam_F['year'], cam_F['prop'])"
   ]
  },
  {
   "cell_type": "code",
   "execution_count": 9,
   "metadata": {},
   "outputs": [
    {
     "data": {
      "text/plain": [
       "9.651734518348624"
      ]
     },
     "execution_count": 9,
     "metadata": {},
     "output_type": "execute_result"
    }
   ],
   "source": [
    "0.134661 / 0.013952"
   ]
  },
  {
   "cell_type": "markdown",
   "metadata": {},
   "source": [
    "### 3. Gender Neutrality\n",
    "\n",
    "    (a) What are the top 5 most gender neutral names?\n",
    "    (b) What are the top 5 most gender neutral names that are predominately female names?\n",
    "    (c) What are the top 5 most gender neutral names that are predominately male names?\n",
    "    (d) What are the top 5 most predominately “female” names?\n",
    "    (e) What are the top 5 most predominately “male” names?"
   ]
  },
  {
   "cell_type": "code",
   "execution_count": 10,
   "metadata": {},
   "outputs": [],
   "source": [
    "top = pd.DataFrame(babys.groupby(['name'])['prop','n'].sum()).reset_index()\n",
    "top_names = top[top['n'] > 50000]\n",
    "\n",
    "# Create a list of all the names that have n > 50,000\n",
    "names_list = list(top_names['name'])\n",
    "\n",
    "# Use that list to get rows of original dataframe with only the values in the list\n",
    "new_names = babys[babys['name'].isin(names_list)]\n",
    "new_names.head()\n",
    "\n",
    "# Perform a groupby\n",
    "names_props = new_names.groupby(['name', 'sex'])['n', 'prop'].sum().reset_index()\n",
    "names_props.head(6)\n",
    "\n",
    "pd.to_numeric(names_props['prop'])\n",
    "\n",
    "# Create dataframes spliting males and females\n",
    "names_M = names_props[names_props['sex'] == 'M']\n",
    "names_F = names_props[names_props['sex'] == 'F']\n",
    "\n",
    "# Take the 'prop' columns of both dataframes and divide Males by Females to get a ratio.\n",
    "total_prop = list(map(truediv, list(names_M['prop']), list(names_F['prop'])))\n",
    "\n",
    "# Create a dataframe merging the list of names with their respective ratios\n",
    "final_props = pd.DataFrame({'name': names_list, 'prop M/F': total_prop})\n",
    "\n",
    "# Create column that takes the absolute value of the proportion - 1. This will give values closest to 1 when sorted.\n",
    "final_props['abs'] = abs(final_props['prop M/F'] - 1)"
   ]
  },
  {
   "cell_type": "markdown",
   "metadata": {},
   "source": [
    "#### 3(a) What are the top 5 most gender neutral names?\n",
    "\n",
    "    1. Kerry\n",
    "    2. Quinn\n",
    "    3. Jackie\n",
    "    4. Riley\n",
    "    5. Leslie"
   ]
  },
  {
   "cell_type": "code",
   "execution_count": 11,
   "metadata": {},
   "outputs": [
    {
     "data": {
      "text/html": [
       "<div>\n",
       "<style scoped>\n",
       "    .dataframe tbody tr th:only-of-type {\n",
       "        vertical-align: middle;\n",
       "    }\n",
       "\n",
       "    .dataframe tbody tr th {\n",
       "        vertical-align: top;\n",
       "    }\n",
       "\n",
       "    .dataframe thead th {\n",
       "        text-align: right;\n",
       "    }\n",
       "</style>\n",
       "<table border=\"1\" class=\"dataframe\">\n",
       "  <thead>\n",
       "    <tr style=\"text-align: right;\">\n",
       "      <th></th>\n",
       "      <th>name</th>\n",
       "      <th>prop M/F</th>\n",
       "      <th>abs</th>\n",
       "    </tr>\n",
       "  </thead>\n",
       "  <tbody>\n",
       "    <tr>\n",
       "      <th>579</th>\n",
       "      <td>Kerry</td>\n",
       "      <td>0.956461</td>\n",
       "      <td>0.043539</td>\n",
       "    </tr>\n",
       "    <tr>\n",
       "      <th>803</th>\n",
       "      <td>Quinn</td>\n",
       "      <td>1.060819</td>\n",
       "      <td>0.060819</td>\n",
       "    </tr>\n",
       "    <tr>\n",
       "      <th>453</th>\n",
       "      <td>Jackie</td>\n",
       "      <td>0.929990</td>\n",
       "      <td>0.070010</td>\n",
       "    </tr>\n",
       "    <tr>\n",
       "      <th>829</th>\n",
       "      <td>Riley</td>\n",
       "      <td>1.114068</td>\n",
       "      <td>0.114068</td>\n",
       "    </tr>\n",
       "    <tr>\n",
       "      <th>618</th>\n",
       "      <td>Leslie</td>\n",
       "      <td>0.829574</td>\n",
       "      <td>0.170426</td>\n",
       "    </tr>\n",
       "  </tbody>\n",
       "</table>\n",
       "</div>"
      ],
      "text/plain": [
       "       name  prop M/F       abs\n",
       "579   Kerry  0.956461  0.043539\n",
       "803   Quinn  1.060819  0.060819\n",
       "453  Jackie  0.929990  0.070010\n",
       "829   Riley  1.114068  0.114068\n",
       "618  Leslie  0.829574  0.170426"
      ]
     },
     "execution_count": 11,
     "metadata": {},
     "output_type": "execute_result"
    }
   ],
   "source": [
    "final_props.sort_values(by=['abs'], ascending=True).head()"
   ]
  },
  {
   "cell_type": "markdown",
   "metadata": {},
   "source": [
    "#### 3(b) What are the top 5 most gender neutral names that are predominately female names?\n",
    "\n",
    "    1. Kerry\n",
    "    2. Jackie\n",
    "    3. Leslie\n",
    "    4. Pat\n",
    "    5. Frankie"
   ]
  },
  {
   "cell_type": "code",
   "execution_count": 12,
   "metadata": {},
   "outputs": [
    {
     "data": {
      "text/html": [
       "<div>\n",
       "<style scoped>\n",
       "    .dataframe tbody tr th:only-of-type {\n",
       "        vertical-align: middle;\n",
       "    }\n",
       "\n",
       "    .dataframe tbody tr th {\n",
       "        vertical-align: top;\n",
       "    }\n",
       "\n",
       "    .dataframe thead th {\n",
       "        text-align: right;\n",
       "    }\n",
       "</style>\n",
       "<table border=\"1\" class=\"dataframe\">\n",
       "  <thead>\n",
       "    <tr style=\"text-align: right;\">\n",
       "      <th></th>\n",
       "      <th>name</th>\n",
       "      <th>prop M/F</th>\n",
       "      <th>abs</th>\n",
       "    </tr>\n",
       "  </thead>\n",
       "  <tbody>\n",
       "    <tr>\n",
       "      <th>579</th>\n",
       "      <td>Kerry</td>\n",
       "      <td>0.956461</td>\n",
       "      <td>0.043539</td>\n",
       "    </tr>\n",
       "    <tr>\n",
       "      <th>453</th>\n",
       "      <td>Jackie</td>\n",
       "      <td>0.929990</td>\n",
       "      <td>0.070010</td>\n",
       "    </tr>\n",
       "    <tr>\n",
       "      <th>618</th>\n",
       "      <td>Leslie</td>\n",
       "      <td>0.829574</td>\n",
       "      <td>0.170426</td>\n",
       "    </tr>\n",
       "    <tr>\n",
       "      <th>781</th>\n",
       "      <td>Pat</td>\n",
       "      <td>0.825005</td>\n",
       "      <td>0.174995</td>\n",
       "    </tr>\n",
       "    <tr>\n",
       "      <th>357</th>\n",
       "      <td>Frankie</td>\n",
       "      <td>0.761089</td>\n",
       "      <td>0.238911</td>\n",
       "    </tr>\n",
       "  </tbody>\n",
       "</table>\n",
       "</div>"
      ],
      "text/plain": [
       "        name  prop M/F       abs\n",
       "579    Kerry  0.956461  0.043539\n",
       "453   Jackie  0.929990  0.070010\n",
       "618   Leslie  0.829574  0.170426\n",
       "781      Pat  0.825005  0.174995\n",
       "357  Frankie  0.761089  0.238911"
      ]
     },
     "execution_count": 12,
     "metadata": {},
     "output_type": "execute_result"
    }
   ],
   "source": [
    "female_neut = final_props[final_props['prop M/F'] < 1].sort_values(by=['prop M/F'], ascending = False).head()\n",
    "female_neut"
   ]
  },
  {
   "cell_type": "markdown",
   "metadata": {},
   "source": [
    "#### 3(c) What are the top 5 most gender neutral names that are predominately male names?\n",
    "\n",
    "    1. Quinn\n",
    "    2. Riley\n",
    "    3. Jaime\n",
    "    4. Casey\n",
    "    5. Skyler"
   ]
  },
  {
   "cell_type": "code",
   "execution_count": 13,
   "metadata": {},
   "outputs": [
    {
     "data": {
      "text/html": [
       "<div>\n",
       "<style scoped>\n",
       "    .dataframe tbody tr th:only-of-type {\n",
       "        vertical-align: middle;\n",
       "    }\n",
       "\n",
       "    .dataframe tbody tr th {\n",
       "        vertical-align: top;\n",
       "    }\n",
       "\n",
       "    .dataframe thead th {\n",
       "        text-align: right;\n",
       "    }\n",
       "</style>\n",
       "<table border=\"1\" class=\"dataframe\">\n",
       "  <thead>\n",
       "    <tr style=\"text-align: right;\">\n",
       "      <th></th>\n",
       "      <th>name</th>\n",
       "      <th>prop M/F</th>\n",
       "      <th>abs</th>\n",
       "    </tr>\n",
       "  </thead>\n",
       "  <tbody>\n",
       "    <tr>\n",
       "      <th>803</th>\n",
       "      <td>Quinn</td>\n",
       "      <td>1.060819</td>\n",
       "      <td>0.060819</td>\n",
       "    </tr>\n",
       "    <tr>\n",
       "      <th>829</th>\n",
       "      <td>Riley</td>\n",
       "      <td>1.114068</td>\n",
       "      <td>0.114068</td>\n",
       "    </tr>\n",
       "    <tr>\n",
       "      <th>461</th>\n",
       "      <td>Jaime</td>\n",
       "      <td>1.231167</td>\n",
       "      <td>0.231167</td>\n",
       "    </tr>\n",
       "    <tr>\n",
       "      <th>171</th>\n",
       "      <td>Casey</td>\n",
       "      <td>1.446191</td>\n",
       "      <td>0.446191</td>\n",
       "    </tr>\n",
       "    <tr>\n",
       "      <th>896</th>\n",
       "      <td>Skyler</td>\n",
       "      <td>1.596557</td>\n",
       "      <td>0.596557</td>\n",
       "    </tr>\n",
       "  </tbody>\n",
       "</table>\n",
       "</div>"
      ],
      "text/plain": [
       "       name  prop M/F       abs\n",
       "803   Quinn  1.060819  0.060819\n",
       "829   Riley  1.114068  0.114068\n",
       "461   Jaime  1.231167  0.231167\n",
       "171   Casey  1.446191  0.446191\n",
       "896  Skyler  1.596557  0.596557"
      ]
     },
     "execution_count": 13,
     "metadata": {},
     "output_type": "execute_result"
    }
   ],
   "source": [
    "male_neut = final_props[final_props['prop M/F'] > 1].sort_values(by=['prop M/F']).head()\n",
    "male_neut"
   ]
  },
  {
   "cell_type": "code",
   "execution_count": 14,
   "metadata": {},
   "outputs": [],
   "source": [
    "#final_props[final_props['prop M/F'] < 1].sort_values(by=['prop M/F'], ascending = False).head()"
   ]
  },
  {
   "cell_type": "markdown",
   "metadata": {},
   "source": [
    "#### 3(d) What are the top 5 most predominately “female” names?\n",
    "\n",
    "    1. Annabelle\n",
    "    2. Isabelle\n",
    "    3. Cecelia\n",
    "    4. Mikayla\n",
    "    5. Lilly"
   ]
  },
  {
   "cell_type": "code",
   "execution_count": 15,
   "metadata": {},
   "outputs": [
    {
     "data": {
      "text/html": [
       "<div>\n",
       "<style scoped>\n",
       "    .dataframe tbody tr th:only-of-type {\n",
       "        vertical-align: middle;\n",
       "    }\n",
       "\n",
       "    .dataframe tbody tr th {\n",
       "        vertical-align: top;\n",
       "    }\n",
       "\n",
       "    .dataframe thead th {\n",
       "        text-align: right;\n",
       "    }\n",
       "</style>\n",
       "<table border=\"1\" class=\"dataframe\">\n",
       "  <thead>\n",
       "    <tr style=\"text-align: right;\">\n",
       "      <th></th>\n",
       "      <th>name</th>\n",
       "      <th>prop M/F</th>\n",
       "      <th>abs</th>\n",
       "    </tr>\n",
       "  </thead>\n",
       "  <tbody>\n",
       "    <tr>\n",
       "      <th>64</th>\n",
       "      <td>Annabelle</td>\n",
       "      <td>0.000122</td>\n",
       "      <td>0.999878</td>\n",
       "    </tr>\n",
       "    <tr>\n",
       "      <th>446</th>\n",
       "      <td>Isabelle</td>\n",
       "      <td>0.000124</td>\n",
       "      <td>0.999876</td>\n",
       "    </tr>\n",
       "    <tr>\n",
       "      <th>176</th>\n",
       "      <td>Cecelia</td>\n",
       "      <td>0.000155</td>\n",
       "      <td>0.999845</td>\n",
       "    </tr>\n",
       "    <tr>\n",
       "      <th>725</th>\n",
       "      <td>Mikayla</td>\n",
       "      <td>0.000195</td>\n",
       "      <td>0.999805</td>\n",
       "    </tr>\n",
       "    <tr>\n",
       "      <th>627</th>\n",
       "      <td>Lilly</td>\n",
       "      <td>0.000249</td>\n",
       "      <td>0.999751</td>\n",
       "    </tr>\n",
       "  </tbody>\n",
       "</table>\n",
       "</div>"
      ],
      "text/plain": [
       "          name  prop M/F       abs\n",
       "64   Annabelle  0.000122  0.999878\n",
       "446   Isabelle  0.000124  0.999876\n",
       "176    Cecelia  0.000155  0.999845\n",
       "725    Mikayla  0.000195  0.999805\n",
       "627      Lilly  0.000249  0.999751"
      ]
     },
     "execution_count": 15,
     "metadata": {},
     "output_type": "execute_result"
    }
   ],
   "source": [
    "final_props.sort_values(by=['prop M/F'], ascending=True).head()"
   ]
  },
  {
   "cell_type": "markdown",
   "metadata": {},
   "source": [
    "#### 3(e) What are the top 5 most predominately “male” names?\n",
    "\n",
    "    1. Edmund\n",
    "    2. Jake\n",
    "    3. Salvatore\n",
    "    4. Grant\n",
    "    5. Trenton"
   ]
  },
  {
   "cell_type": "code",
   "execution_count": 16,
   "metadata": {},
   "outputs": [
    {
     "data": {
      "text/html": [
       "<div>\n",
       "<style scoped>\n",
       "    .dataframe tbody tr th:only-of-type {\n",
       "        vertical-align: middle;\n",
       "    }\n",
       "\n",
       "    .dataframe tbody tr th {\n",
       "        vertical-align: top;\n",
       "    }\n",
       "\n",
       "    .dataframe thead th {\n",
       "        text-align: right;\n",
       "    }\n",
       "</style>\n",
       "<table border=\"1\" class=\"dataframe\">\n",
       "  <thead>\n",
       "    <tr style=\"text-align: right;\">\n",
       "      <th></th>\n",
       "      <th>name</th>\n",
       "      <th>prop M/F</th>\n",
       "      <th>abs</th>\n",
       "    </tr>\n",
       "  </thead>\n",
       "  <tbody>\n",
       "    <tr>\n",
       "      <th>300</th>\n",
       "      <td>Edmund</td>\n",
       "      <td>1119.887944</td>\n",
       "      <td>1118.887944</td>\n",
       "    </tr>\n",
       "    <tr>\n",
       "      <th>462</th>\n",
       "      <td>Jake</td>\n",
       "      <td>751.227257</td>\n",
       "      <td>750.227257</td>\n",
       "    </tr>\n",
       "    <tr>\n",
       "      <th>861</th>\n",
       "      <td>Salvatore</td>\n",
       "      <td>729.709352</td>\n",
       "      <td>728.709352</td>\n",
       "    </tr>\n",
       "    <tr>\n",
       "      <th>397</th>\n",
       "      <td>Grant</td>\n",
       "      <td>715.816410</td>\n",
       "      <td>714.816410</td>\n",
       "    </tr>\n",
       "    <tr>\n",
       "      <th>952</th>\n",
       "      <td>Trenton</td>\n",
       "      <td>684.135750</td>\n",
       "      <td>683.135750</td>\n",
       "    </tr>\n",
       "  </tbody>\n",
       "</table>\n",
       "</div>"
      ],
      "text/plain": [
       "          name     prop M/F          abs\n",
       "300     Edmund  1119.887944  1118.887944\n",
       "462       Jake   751.227257   750.227257\n",
       "861  Salvatore   729.709352   728.709352\n",
       "397      Grant   715.816410   714.816410\n",
       "952    Trenton   684.135750   683.135750"
      ]
     },
     "execution_count": 16,
     "metadata": {},
     "output_type": "execute_result"
    }
   ],
   "source": [
    "final_props.sort_values(by=['prop M/F'], ascending=False).head()"
   ]
  },
  {
   "cell_type": "markdown",
   "metadata": {},
   "source": [
    "### 4. For this problem, choose either girls or boys. If you choose girls, use the five names that you found in problem (3b). If you choose boys, use the five names that you found in problem (3c). Plot the F/M ratio (or the M/F ratio) for the top names over time and use a different color for each name (you are only including lines for the top 5 names). Are there any names that changed female or male predominance at any time?\n",
    "\n",
    "    - Since I did the M/F ratio, if the value is greater than 1, the name will be more male dominant. Looking at the plot, the name Riley originally was a highly male dominant name, but overtime that dominance decreased.\n",
    "    \n",
    "    A line was added across the plot at y=1, so the values below that line will be female dominant. It appears that over time, each name has crossed that line at least once. The name \"Jaime\" initially was male dominant, steadily become more female dominant and now is making its way back to being more male dominant. Jaime is the only name that is rising in male dominance, the other four names (Riley, Casey, Quinn, and Skyler) have all been decreasing."
   ]
  },
  {
   "cell_type": "code",
   "execution_count": 17,
   "metadata": {},
   "outputs": [
    {
     "data": {
      "text/html": [
       "<div>\n",
       "<style scoped>\n",
       "    .dataframe tbody tr th:only-of-type {\n",
       "        vertical-align: middle;\n",
       "    }\n",
       "\n",
       "    .dataframe tbody tr th {\n",
       "        vertical-align: top;\n",
       "    }\n",
       "\n",
       "    .dataframe thead th {\n",
       "        text-align: right;\n",
       "    }\n",
       "</style>\n",
       "<table border=\"1\" class=\"dataframe\">\n",
       "  <thead>\n",
       "    <tr style=\"text-align: right;\">\n",
       "      <th></th>\n",
       "      <th>year</th>\n",
       "      <th>sex_x</th>\n",
       "      <th>name</th>\n",
       "      <th>n_x</th>\n",
       "      <th>prop_x</th>\n",
       "      <th>sex_y</th>\n",
       "      <th>n_y</th>\n",
       "      <th>prop_y</th>\n",
       "      <th>M/F</th>\n",
       "    </tr>\n",
       "  </thead>\n",
       "  <tbody>\n",
       "    <tr>\n",
       "      <th>0</th>\n",
       "      <td>1880</td>\n",
       "      <td>M</td>\n",
       "      <td>Riley</td>\n",
       "      <td>41</td>\n",
       "      <td>0.000346</td>\n",
       "      <td>NaN</td>\n",
       "      <td>NaN</td>\n",
       "      <td>NaN</td>\n",
       "      <td>NaN</td>\n",
       "    </tr>\n",
       "    <tr>\n",
       "      <th>1</th>\n",
       "      <td>1881</td>\n",
       "      <td>M</td>\n",
       "      <td>Riley</td>\n",
       "      <td>47</td>\n",
       "      <td>0.000434</td>\n",
       "      <td>NaN</td>\n",
       "      <td>NaN</td>\n",
       "      <td>NaN</td>\n",
       "      <td>NaN</td>\n",
       "    </tr>\n",
       "    <tr>\n",
       "      <th>2</th>\n",
       "      <td>1882</td>\n",
       "      <td>M</td>\n",
       "      <td>Riley</td>\n",
       "      <td>54</td>\n",
       "      <td>0.000443</td>\n",
       "      <td>NaN</td>\n",
       "      <td>NaN</td>\n",
       "      <td>NaN</td>\n",
       "      <td>NaN</td>\n",
       "    </tr>\n",
       "    <tr>\n",
       "      <th>3</th>\n",
       "      <td>1883</td>\n",
       "      <td>M</td>\n",
       "      <td>Riley</td>\n",
       "      <td>45</td>\n",
       "      <td>0.000400</td>\n",
       "      <td>NaN</td>\n",
       "      <td>NaN</td>\n",
       "      <td>NaN</td>\n",
       "      <td>NaN</td>\n",
       "    </tr>\n",
       "    <tr>\n",
       "      <th>4</th>\n",
       "      <td>1884</td>\n",
       "      <td>M</td>\n",
       "      <td>Riley</td>\n",
       "      <td>47</td>\n",
       "      <td>0.000383</td>\n",
       "      <td>NaN</td>\n",
       "      <td>NaN</td>\n",
       "      <td>NaN</td>\n",
       "      <td>NaN</td>\n",
       "    </tr>\n",
       "  </tbody>\n",
       "</table>\n",
       "</div>"
      ],
      "text/plain": [
       "   year sex_x   name  n_x    prop_x sex_y  n_y  prop_y  M/F\n",
       "0  1880     M  Riley   41  0.000346   NaN  NaN     NaN  NaN\n",
       "1  1881     M  Riley   47  0.000434   NaN  NaN     NaN  NaN\n",
       "2  1882     M  Riley   54  0.000443   NaN  NaN     NaN  NaN\n",
       "3  1883     M  Riley   45  0.000400   NaN  NaN     NaN  NaN\n",
       "4  1884     M  Riley   47  0.000383   NaN  NaN     NaN  NaN"
      ]
     },
     "execution_count": 17,
     "metadata": {},
     "output_type": "execute_result"
    }
   ],
   "source": [
    "# Create list of top 5 boy names\n",
    "boy_list = list(male_neut['name'])\n",
    "\n",
    "# Create data frame with just those names\n",
    "boy_names_all = babys[babys['name'].isin(boy_list)]\n",
    "boy_names_all\n",
    "\n",
    "bna_M = boy_names_all[boy_names_all['sex'] == 'M']\n",
    "bna_F = boy_names_all[boy_names_all['sex'] == 'F']\n",
    "bna_total = pd.merge(bna_M, bna_F, on = ['year','name'], how='outer')\n",
    "\n",
    "\n",
    "bna_total['M/F'] = bna_total['prop_x'] / bna_total['prop_y']\n",
    "bna_total.head()"
   ]
  },
  {
   "cell_type": "code",
   "execution_count": 18,
   "metadata": {},
   "outputs": [
    {
     "data": {
      "text/plain": [
       "[<matplotlib.lines.Line2D at 0x1a1e741e48>]"
      ]
     },
     "execution_count": 18,
     "metadata": {},
     "output_type": "execute_result"
    },
    {
     "data": {
      "image/png": "[encoded data removed]",
      "text/plain": [
       "<Figure size 432x288 with 1 Axes>"
      ]
     },
     "metadata": {
      "needs_background": "light"
     },
     "output_type": "display_data"
    }
   ],
   "source": [
    "sns.scatterplot('year', 'M/F', data = bna_total, hue='name')\n",
    "plt.plot([1920,2020],[1,1], linewidth=1)"
   ]
  },
  {
   "cell_type": "markdown",
   "metadata": {},
   "source": [
    "## 5. Names by state"
   ]
  },
  {
   "cell_type": "markdown",
   "metadata": {},
   "source": [
    "### 5(a) Choose at least 3 states. Compute the top 5 most gender neutral names as you did in problem (3) for each of the states that you chose. Restrict your analysis for each state to names that have at least 30,000 names (summed across both genders and all years) for that state.\n"
   ]
  },
  {
   "cell_type": "code",
   "execution_count": 19,
   "metadata": {},
   "outputs": [],
   "source": [
    "\n",
    "# NC\n",
    "nc_babys = pd.read_csv('namesbystate/NC.txt', names = ['state', 'sex', 'year', 'name', 'n'])\n",
    "nc_babys['prop'] = nc_babys['n'] / sum(nc_babys['n'])\n",
    "nc_babys_f = nc_babys[nc_babys['sex'] == 'F']\n",
    "nc_babys_m = nc_babys[nc_babys['sex'] == 'M']\n",
    "\n",
    "# Arizona\n",
    "az_babys = pd.read_csv('namesbystate/AZ.txt', names = ['state', 'sex', 'year', 'name', 'n'])\n",
    "az_babys['prop'] = az_babys['n'] / sum(az_babys['n'])\n",
    "\n",
    "az_babys_f = az_babys[az_babys['sex'] == 'F']\n",
    "az_babys_m = az_babys[az_babys['sex'] == 'M']\n",
    "\n",
    "# Virginia\n",
    "va_babys = pd.read_csv('namesbystate/VA.txt', names = ['state', 'sex', 'year', 'name', 'n'])\n",
    "va_babys['prop'] = va_babys['n'] / sum(va_babys['n'])\n",
    "\n",
    "va_babys_f = va_babys[va_babys['sex'] == 'F']\n",
    "va_babys_m = va_babys[va_babys['sex'] == 'M']"
   ]
  },
  {
   "cell_type": "code",
   "execution_count": 20,
   "metadata": {},
   "outputs": [],
   "source": [
    "def my_function(x):\n",
    "\n",
    "    state_top = pd.DataFrame(x.groupby(['name'])['prop','n'].sum()).reset_index()\n",
    "    state_top_names = state_top[state_top['n'] > 30000]\n",
    "\n",
    "    # Create a list of all the names that have n > 30,000\n",
    "    state_names_list = list(state_top_names['name'])\n",
    "\n",
    "    # Use that list to get rows of original dataframe with only the values in the list\n",
    "    state_new_names = x[x['name'].isin(state_names_list)]\n",
    "    state_new_names.head()\n",
    "\n",
    "    # Perform a groupby\n",
    "    state_names_props = state_new_names.groupby(['name', 'sex'])['n', 'prop'].sum().reset_index()\n",
    "    state_names_props.head(6)\n",
    "\n",
    "    pd.to_numeric(state_names_props['prop'])\n",
    "\n",
    "    # Create dataframes spliting males and females\n",
    "    state_names_M = state_names_props[state_names_props['sex'] == 'M']\n",
    "    state_names_F = state_names_props[state_names_props['sex'] == 'F']\n",
    "\n",
    "    # Take the 'prop' columns of both dataframes and divide Males by Females to get a ratio.\n",
    "    state_total_prop = list(map(truediv, list(state_names_M['prop']), list(state_names_F['prop'])))\n",
    "\n",
    "    # Create a dataframe merging the list of names with their respective ratios\n",
    "    state_final_props = pd.DataFrame({'name': state_names_list, 'prop M/F': state_total_prop})\n",
    "\n",
    "    # Create column that takes the absolute value of the proportion - 1. This will give values closest to 1 when sorted.\n",
    "    state_final_props['abs'] = abs(state_final_props['prop M/F'] - 1)\n",
    "    \n",
    "    return state_final_props"
   ]
  },
  {
   "cell_type": "code",
   "execution_count": 21,
   "metadata": {},
   "outputs": [],
   "source": [
    "nc_final_props = my_function(nc_babys).sort_values(by=['abs']).head()\n",
    "az_final_props = my_function(az_babys).sort_values(by=['abs']).head()\n",
    "va_final_props = my_function(va_babys).sort_values(by=['abs']).head()"
   ]
  },
  {
   "cell_type": "code",
   "execution_count": 22,
   "metadata": {},
   "outputs": [
    {
     "data": {
      "text/html": [
       "<div>\n",
       "<style scoped>\n",
       "    .dataframe tbody tr th:only-of-type {\n",
       "        vertical-align: middle;\n",
       "    }\n",
       "\n",
       "    .dataframe tbody tr th {\n",
       "        vertical-align: top;\n",
       "    }\n",
       "\n",
       "    .dataframe thead th {\n",
       "        text-align: right;\n",
       "    }\n",
       "</style>\n",
       "<table border=\"1\" class=\"dataframe\">\n",
       "  <thead>\n",
       "    <tr style=\"text-align: right;\">\n",
       "      <th></th>\n",
       "      <th>name</th>\n",
       "      <th>prop M/F</th>\n",
       "      <th>abs</th>\n",
       "    </tr>\n",
       "  </thead>\n",
       "  <tbody>\n",
       "    <tr>\n",
       "      <th>22</th>\n",
       "      <td>Mary</td>\n",
       "      <td>0.004315</td>\n",
       "      <td>0.995685</td>\n",
       "    </tr>\n",
       "    <tr>\n",
       "      <th>0</th>\n",
       "      <td>Annie</td>\n",
       "      <td>0.004111</td>\n",
       "      <td>0.995889</td>\n",
       "    </tr>\n",
       "    <tr>\n",
       "      <th>2</th>\n",
       "      <td>Betty</td>\n",
       "      <td>0.003730</td>\n",
       "      <td>0.996270</td>\n",
       "    </tr>\n",
       "    <tr>\n",
       "      <th>9</th>\n",
       "      <td>Dorothy</td>\n",
       "      <td>0.001865</td>\n",
       "      <td>0.998135</td>\n",
       "    </tr>\n",
       "    <tr>\n",
       "      <th>13</th>\n",
       "      <td>Jennifer</td>\n",
       "      <td>0.001676</td>\n",
       "      <td>0.998324</td>\n",
       "    </tr>\n",
       "  </tbody>\n",
       "</table>\n",
       "</div>"
      ],
      "text/plain": [
       "        name  prop M/F       abs\n",
       "22      Mary  0.004315  0.995685\n",
       "0      Annie  0.004111  0.995889\n",
       "2      Betty  0.003730  0.996270\n",
       "9    Dorothy  0.001865  0.998135\n",
       "13  Jennifer  0.001676  0.998324"
      ]
     },
     "execution_count": 22,
     "metadata": {},
     "output_type": "execute_result"
    }
   ],
   "source": [
    "nc_final_props"
   ]
  },
  {
   "cell_type": "code",
   "execution_count": 23,
   "metadata": {},
   "outputs": [
    {
     "data": {
      "text/html": [
       "<div>\n",
       "<style scoped>\n",
       "    .dataframe tbody tr th:only-of-type {\n",
       "        vertical-align: middle;\n",
       "    }\n",
       "\n",
       "    .dataframe tbody tr th {\n",
       "        vertical-align: top;\n",
       "    }\n",
       "\n",
       "    .dataframe thead th {\n",
       "        text-align: right;\n",
       "    }\n",
       "</style>\n",
       "<table border=\"1\" class=\"dataframe\">\n",
       "  <thead>\n",
       "    <tr style=\"text-align: right;\">\n",
       "      <th></th>\n",
       "      <th>name</th>\n",
       "      <th>prop M/F</th>\n",
       "      <th>abs</th>\n",
       "    </tr>\n",
       "  </thead>\n",
       "  <tbody>\n",
       "    <tr>\n",
       "      <th>3</th>\n",
       "      <td>Michael</td>\n",
       "      <td>226.290640</td>\n",
       "      <td>225.290640</td>\n",
       "    </tr>\n",
       "    <tr>\n",
       "      <th>0</th>\n",
       "      <td>David</td>\n",
       "      <td>959.325000</td>\n",
       "      <td>958.325000</td>\n",
       "    </tr>\n",
       "    <tr>\n",
       "      <th>4</th>\n",
       "      <td>Robert</td>\n",
       "      <td>1083.968750</td>\n",
       "      <td>1082.968750</td>\n",
       "    </tr>\n",
       "    <tr>\n",
       "      <th>1</th>\n",
       "      <td>James</td>\n",
       "      <td>1608.105263</td>\n",
       "      <td>1607.105263</td>\n",
       "    </tr>\n",
       "    <tr>\n",
       "      <th>2</th>\n",
       "      <td>John</td>\n",
       "      <td>1736.666667</td>\n",
       "      <td>1735.666667</td>\n",
       "    </tr>\n",
       "  </tbody>\n",
       "</table>\n",
       "</div>"
      ],
      "text/plain": [
       "      name     prop M/F          abs\n",
       "3  Michael   226.290640   225.290640\n",
       "0    David   959.325000   958.325000\n",
       "4   Robert  1083.968750  1082.968750\n",
       "1    James  1608.105263  1607.105263\n",
       "2     John  1736.666667  1735.666667"
      ]
     },
     "execution_count": 23,
     "metadata": {},
     "output_type": "execute_result"
    }
   ],
   "source": [
    "az_final_props"
   ]
  },
  {
   "cell_type": "code",
   "execution_count": 24,
   "metadata": {},
   "outputs": [
    {
     "data": {
      "text/html": [
       "<div>\n",
       "<style scoped>\n",
       "    .dataframe tbody tr th:only-of-type {\n",
       "        vertical-align: middle;\n",
       "    }\n",
       "\n",
       "    .dataframe tbody tr th {\n",
       "        vertical-align: top;\n",
       "    }\n",
       "\n",
       "    .dataframe thead th {\n",
       "        text-align: right;\n",
       "    }\n",
       "</style>\n",
       "<table border=\"1\" class=\"dataframe\">\n",
       "  <thead>\n",
       "    <tr style=\"text-align: right;\">\n",
       "      <th></th>\n",
       "      <th>name</th>\n",
       "      <th>prop M/F</th>\n",
       "      <th>abs</th>\n",
       "    </tr>\n",
       "  </thead>\n",
       "  <tbody>\n",
       "    <tr>\n",
       "      <th>14</th>\n",
       "      <td>Mary</td>\n",
       "      <td>0.002733</td>\n",
       "      <td>0.997267</td>\n",
       "    </tr>\n",
       "    <tr>\n",
       "      <th>8</th>\n",
       "      <td>Jennifer</td>\n",
       "      <td>0.001507</td>\n",
       "      <td>0.998493</td>\n",
       "    </tr>\n",
       "    <tr>\n",
       "      <th>12</th>\n",
       "      <td>Linda</td>\n",
       "      <td>0.000924</td>\n",
       "      <td>0.999076</td>\n",
       "    </tr>\n",
       "    <tr>\n",
       "      <th>0</th>\n",
       "      <td>Barbara</td>\n",
       "      <td>0.000744</td>\n",
       "      <td>0.999256</td>\n",
       "    </tr>\n",
       "    <tr>\n",
       "      <th>20</th>\n",
       "      <td>Sarah</td>\n",
       "      <td>0.000354</td>\n",
       "      <td>0.999646</td>\n",
       "    </tr>\n",
       "  </tbody>\n",
       "</table>\n",
       "</div>"
      ],
      "text/plain": [
       "        name  prop M/F       abs\n",
       "14      Mary  0.002733  0.997267\n",
       "8   Jennifer  0.001507  0.998493\n",
       "12     Linda  0.000924  0.999076\n",
       "0    Barbara  0.000744  0.999256\n",
       "20     Sarah  0.000354  0.999646"
      ]
     },
     "execution_count": 24,
     "metadata": {},
     "output_type": "execute_result"
    }
   ],
   "source": [
    "va_final_props"
   ]
  },
  {
   "cell_type": "markdown",
   "metadata": {},
   "source": [
    "### 5(b) How does your list of gender neutral names compare across the three states you chose and to the overall list from problem (3a)?\n",
    "\n",
    "    - Calculating the top five most gender neutral names for individual states was a little more complicated for individual states. Since the data was subsetted to those whose total was greater than 30,000, the only names that had at least that many names were typically names that were really common for either sex. I created a function, using the same process as above to calculate the top 5 lists and found that there weren't any names that were particlarly gender neutral among the 3 states that I chose."
   ]
  },
  {
   "cell_type": "markdown",
   "metadata": {},
   "source": [
    "## Part 2\n",
    "\n",
    "### Clean the data"
   ]
  },
  {
   "cell_type": "code",
   "execution_count": 25,
   "metadata": {},
   "outputs": [],
   "source": [
    "import requests\n",
    "import wikipedia\n",
    "from bs4 import BeautifulSoup\n",
    "import re"
   ]
  },
  {
   "cell_type": "code",
   "execution_count": 26,
   "metadata": {},
   "outputs": [],
   "source": [
    "#Get the html source\n",
    "html = wikipedia.page(\"List_of_United_States_cities_by_population\").html().encode(\"UTF-8\")\n",
    "df = pd.read_html(html)[4]\n",
    "df.to_csv('beautifulsoup_pandas.csv',header=0,index=False)\n",
    "df = pd.DataFrame(df)"
   ]
  },
  {
   "cell_type": "code",
   "execution_count": 27,
   "metadata": {},
   "outputs": [],
   "source": [
    "df['City'] = df['City'].apply(lambda x: re.sub('\\[.*\\]', '', x))"
   ]
  },
  {
   "cell_type": "code",
   "execution_count": 28,
   "metadata": {},
   "outputs": [],
   "source": [
    "df['Location'] = df['Location'].apply(lambda x: re.findall('\\d+\\.\\d+', x))"
   ]
  },
  {
   "cell_type": "code",
   "execution_count": 29,
   "metadata": {},
   "outputs": [],
   "source": [
    "def lat(x): \n",
    "    return [item[0] for item in x] \n",
    "def long(x):\n",
    "    return [item[1] for item in x] \n",
    "df['lat'] = lat(df['Location'])\n",
    "df['long'] = long(df['Location'])\n",
    "\n",
    "df['lat'] = pd.to_numeric(df['lat'])\n",
    "df['long'] = pd.to_numeric(df['long'])"
   ]
  },
  {
   "cell_type": "code",
   "execution_count": 30,
   "metadata": {},
   "outputs": [],
   "source": [
    "# Clean the \"Change\" column to get rid of symbols. Add column if positive or negative.\n",
    "df['Change'] = df['Change'].str.replace('â', '-')\n",
    "df['Change'] = df[\"Change\"].str.replace('%','')\n",
    "df['Change'] = df[\"Change\"].str.replace('+','')\n",
    "df['Change'] = df['Change'].apply(lambda x: re.sub('\\[.*\\]', '', x))\n",
    "df['Change'] = pd.to_numeric(df['Change'])"
   ]
  },
  {
   "cell_type": "code",
   "execution_count": 31,
   "metadata": {},
   "outputs": [],
   "source": [
    "df['mag'] = np.where(df['Change']>=0, 'Positive', 'Negative')"
   ]
  },
  {
   "cell_type": "markdown",
   "metadata": {},
   "source": [
    "### 6(a) Make a plot of the data using longitude on the x-axis and latitude on the y-axis. Size the points based on the magnitude of the percent change. Color the points based on whether the percent change is positive or negative."
   ]
  },
  {
   "cell_type": "code",
   "execution_count": 32,
   "metadata": {},
   "outputs": [
    {
     "data": {
      "text/plain": [
       "<matplotlib.axes._subplots.AxesSubplot at 0x1a22c3ec88>"
      ]
     },
     "execution_count": 32,
     "metadata": {},
     "output_type": "execute_result"
    },
    {
     "data": {
      "image/png": "[encoded data removed]",
      "text/plain": [
       "<Figure size 432x288 with 1 Axes>"
      ]
     },
     "metadata": {
      "needs_background": "light"
     },
     "output_type": "display_data"
    }
   ],
   "source": [
    "sns.scatterplot(x = 'long', y = 'lat', hue = 'mag', data = df, size = 'Change')"
   ]
  },
  {
   "cell_type": "markdown",
   "metadata": {},
   "source": [
    "### 6(b) Repeat the same plot excluding cities from Alaska and Hawaii (so that the ranges for longitude and latitude are not so big)."
   ]
  },
  {
   "cell_type": "code",
   "execution_count": 33,
   "metadata": {},
   "outputs": [],
   "source": [
    "# Subset original dataset, removing rows where the state is Alaska and Hawaii\n",
    "df2 = df[~df['State[c]'].isin(['Alaska', 'Hawaii'])]"
   ]
  },
  {
   "cell_type": "code",
   "execution_count": 34,
   "metadata": {},
   "outputs": [
    {
     "data": {
      "text/plain": [
       "(25, 60)"
      ]
     },
     "execution_count": 34,
     "metadata": {},
     "output_type": "execute_result"
    },
    {
     "data": {
      "image/png": "[encoded data removed]",
      "text/plain": [
       "<Figure size 432x288 with 1 Axes>"
      ]
     },
     "metadata": {
      "needs_background": "light"
     },
     "output_type": "display_data"
    }
   ],
   "source": [
    "# Change range of axes to better fit the legend\n",
    "sns.scatterplot(x = 'long', y = 'lat', hue = 'mag', data = df2, size = 'Change')\n",
    "plt.xlim(70, 150)\n",
    "plt.ylim(25, 60)"
   ]
  },
  {
   "cell_type": "markdown",
   "metadata": {},
   "source": [
    "### 6(c) Comment on any patterns that you see.\n",
    "\n",
    "    - Overall, there appears to be on average, a more positive change across the United States. However, it looks like the states in the Midwest/Northeast/East coast tend to be more negative than those on the West. In general, the largest growth appears to be in Texas and California, but there is also a major increase in what looks like Georgia. By observing the data, not just looking at the graph, these assumptions were correct!"
   ]
  },
  {
   "cell_type": "code",
   "execution_count": 121,
   "metadata": {},
   "outputs": [
    {
     "data": {
      "text/html": [
       "<div>\n",
       "<style scoped>\n",
       "    .dataframe tbody tr th:only-of-type {\n",
       "        vertical-align: middle;\n",
       "    }\n",
       "\n",
       "    .dataframe tbody tr th {\n",
       "        vertical-align: top;\n",
       "    }\n",
       "\n",
       "    .dataframe thead th {\n",
       "        text-align: right;\n",
       "    }\n",
       "</style>\n",
       "<table border=\"1\" class=\"dataframe\">\n",
       "  <thead>\n",
       "    <tr style=\"text-align: right;\">\n",
       "      <th></th>\n",
       "      <th>2018rank</th>\n",
       "      <th>City</th>\n",
       "      <th>State[c]</th>\n",
       "      <th>2018estimate</th>\n",
       "      <th>2010Census</th>\n",
       "      <th>Change</th>\n",
       "      <th>2016 land area</th>\n",
       "      <th>2016 land area.1</th>\n",
       "      <th>2016 population density</th>\n",
       "      <th>2016 population density.1</th>\n",
       "      <th>Location</th>\n",
       "      <th>lat</th>\n",
       "      <th>long</th>\n",
       "      <th>mag</th>\n",
       "    </tr>\n",
       "  </thead>\n",
       "  <tbody>\n",
       "    <tr>\n",
       "      <th>0</th>\n",
       "      <td>1</td>\n",
       "      <td>New York</td>\n",
       "      <td>New York</td>\n",
       "      <td>8398748</td>\n",
       "      <td>8175133</td>\n",
       "      <td>2.74</td>\n",
       "      <td>301.5 sq mi</td>\n",
       "      <td>780.9 km2</td>\n",
       "      <td>28,317/sq mi</td>\n",
       "      <td>10,933/km2</td>\n",
       "      <td>[40.6635, 73.9387]</td>\n",
       "      <td>40.6635</td>\n",
       "      <td>73.9387</td>\n",
       "      <td>Positive</td>\n",
       "    </tr>\n",
       "    <tr>\n",
       "      <th>1</th>\n",
       "      <td>2</td>\n",
       "      <td>Los Angeles</td>\n",
       "      <td>California</td>\n",
       "      <td>3990456</td>\n",
       "      <td>3792621</td>\n",
       "      <td>5.22</td>\n",
       "      <td>468.7 sq mi</td>\n",
       "      <td>1,213.9 km2</td>\n",
       "      <td>8,484/sq mi</td>\n",
       "      <td>3,276/km2</td>\n",
       "      <td>[34.0194, 118.4108]</td>\n",
       "      <td>34.0194</td>\n",
       "      <td>118.4108</td>\n",
       "      <td>Positive</td>\n",
       "    </tr>\n",
       "    <tr>\n",
       "      <th>2</th>\n",
       "      <td>3</td>\n",
       "      <td>Chicago</td>\n",
       "      <td>Illinois</td>\n",
       "      <td>2705994</td>\n",
       "      <td>2695598</td>\n",
       "      <td>0.39</td>\n",
       "      <td>227.3 sq mi</td>\n",
       "      <td>588.7 km2</td>\n",
       "      <td>11,900/sq mi</td>\n",
       "      <td>4,600/km2</td>\n",
       "      <td>[41.8376, 87.6818]</td>\n",
       "      <td>41.8376</td>\n",
       "      <td>87.6818</td>\n",
       "      <td>Positive</td>\n",
       "    </tr>\n",
       "    <tr>\n",
       "      <th>3</th>\n",
       "      <td>4</td>\n",
       "      <td>Houston</td>\n",
       "      <td>Texas</td>\n",
       "      <td>2325502</td>\n",
       "      <td>2100263</td>\n",
       "      <td>10.72</td>\n",
       "      <td>637.5 sq mi</td>\n",
       "      <td>1,651.1 km2</td>\n",
       "      <td>3,613/sq mi</td>\n",
       "      <td>1,395/km2</td>\n",
       "      <td>[29.7866, 95.3909]</td>\n",
       "      <td>29.7866</td>\n",
       "      <td>95.3909</td>\n",
       "      <td>Positive</td>\n",
       "    </tr>\n",
       "    <tr>\n",
       "      <th>4</th>\n",
       "      <td>5</td>\n",
       "      <td>Phoenix</td>\n",
       "      <td>Arizona</td>\n",
       "      <td>1660272</td>\n",
       "      <td>1445632</td>\n",
       "      <td>14.85</td>\n",
       "      <td>517.6 sq mi</td>\n",
       "      <td>1,340.6 km2</td>\n",
       "      <td>3,120/sq mi</td>\n",
       "      <td>1,200/km2</td>\n",
       "      <td>[33.5722, 112.0901]</td>\n",
       "      <td>33.5722</td>\n",
       "      <td>112.0901</td>\n",
       "      <td>Positive</td>\n",
       "    </tr>\n",
       "  </tbody>\n",
       "</table>\n",
       "</div>"
      ],
      "text/plain": [
       "   2018rank         City    State[c]  2018estimate  2010Census  Change  \\\n",
       "0         1     New York    New York       8398748     8175133    2.74   \n",
       "1         2  Los Angeles  California       3990456     3792621    5.22   \n",
       "2         3      Chicago    Illinois       2705994     2695598    0.39   \n",
       "3         4      Houston       Texas       2325502     2100263   10.72   \n",
       "4         5      Phoenix     Arizona       1660272     1445632   14.85   \n",
       "\n",
       "  2016 land area 2016 land area.1 2016 population density  \\\n",
       "0    301.5 sq mi        780.9 km2            28,317/sq mi   \n",
       "1    468.7 sq mi      1,213.9 km2             8,484/sq mi   \n",
       "2    227.3 sq mi        588.7 km2            11,900/sq mi   \n",
       "3    637.5 sq mi      1,651.1 km2             3,613/sq mi   \n",
       "4    517.6 sq mi      1,340.6 km2             3,120/sq mi   \n",
       "\n",
       "  2016 population density.1             Location      lat      long       mag  \n",
       "0                10,933/km2   [40.6635, 73.9387]  40.6635   73.9387  Positive  \n",
       "1                 3,276/km2  [34.0194, 118.4108]  34.0194  118.4108  Positive  \n",
       "2                 4,600/km2   [41.8376, 87.6818]  41.8376   87.6818  Positive  \n",
       "3                 1,395/km2   [29.7866, 95.3909]  29.7866   95.3909  Positive  \n",
       "4                 1,200/km2  [33.5722, 112.0901]  33.5722  112.0901  Positive  "
      ]
     },
     "execution_count": 121,
     "metadata": {},
     "output_type": "execute_result"
    }
   ],
   "source": [
    "df.head()"
   ]
  },
  {
   "cell_type": "markdown",
   "metadata": {},
   "source": [
    "## 7. Crime Rates"
   ]
  },
  {
   "cell_type": "markdown",
   "metadata": {},
   "source": [
    "### Clean the data"
   ]
  },
  {
   "cell_type": "code",
   "execution_count": 111,
   "metadata": {},
   "outputs": [],
   "source": [
    "#Get the html source\n",
    "html2 = wikipedia.page(\"List_of_United_States_cities_by_crime_rate\").html().encode(\"UTF-8\")\n",
    "crime = pd.read_html(html2)[0]\n",
    "crime.to_csv('beautifulsoup_pandas.csv',header=0,index=False)\n",
    "crime = pd.DataFrame(crime)\n",
    "crime.columns = crime.columns.droplevel()\n",
    "\n",
    "#Get the html source\n",
    "html3 = wikipedia.page(\"United_States_cities_by_crime_rate_(100,000–250,000)\").html().encode(\"UTF-8\")\n",
    "crime2 = pd.read_html(html3)[1]\n",
    "crime2.to_csv('beautifulsoup_pandas.csv',header=0,index=False)\n",
    "crime2 = pd.DataFrame(crime2)"
   ]
  },
  {
   "cell_type": "code",
   "execution_count": 116,
   "metadata": {},
   "outputs": [],
   "source": [
    "crime_city = list(crime['City'])\n",
    "crime2_city = list(crime2['City'])\n",
    "\n",
    "# Remove the numbers from the city names\n",
    "def remove_nums(list): \n",
    "    remove_digits = str.maketrans('', '', digits) \n",
    "    list = [i.translate(remove_digits) for i in list] \n",
    "    return list\n",
    "\n",
    "crime_city = remove_nums(crime_city)\n",
    "crime2_city = remove_nums(crime2_city)"
   ]
  },
  {
   "cell_type": "code",
   "execution_count": 138,
   "metadata": {},
   "outputs": [
    {
     "data": {
      "text/html": [
       "<div>\n",
       "<style scoped>\n",
       "    .dataframe tbody tr th:only-of-type {\n",
       "        vertical-align: middle;\n",
       "    }\n",
       "\n",
       "    .dataframe tbody tr th {\n",
       "        vertical-align: top;\n",
       "    }\n",
       "\n",
       "    .dataframe thead th {\n",
       "        text-align: right;\n",
       "    }\n",
       "</style>\n",
       "<table border=\"1\" class=\"dataframe\">\n",
       "  <thead>\n",
       "    <tr style=\"text-align: right;\">\n",
       "      <th></th>\n",
       "      <th>State_x</th>\n",
       "      <th>City</th>\n",
       "      <th>Population_x</th>\n",
       "      <th>Total</th>\n",
       "      <th>Murder and Nonnegligent manslaughter</th>\n",
       "      <th>Rape1</th>\n",
       "      <th>Robbery_x</th>\n",
       "      <th>Aggravated assault_x</th>\n",
       "      <th>Total</th>\n",
       "      <th>Burglary_x</th>\n",
       "      <th>...</th>\n",
       "      <th>Violent Crime</th>\n",
       "      <th>Murder and nonnegligent manslaughter</th>\n",
       "      <th>Forcible rape</th>\n",
       "      <th>Robbery_y</th>\n",
       "      <th>Aggravated assault_y</th>\n",
       "      <th>Property crime</th>\n",
       "      <th>Burglary_y</th>\n",
       "      <th>Larceny-theft_y</th>\n",
       "      <th>Motor vehicle theft_y</th>\n",
       "      <th>2016 population density</th>\n",
       "    </tr>\n",
       "  </thead>\n",
       "  <tbody>\n",
       "    <tr>\n",
       "      <th>0</th>\n",
       "      <td>Arizona</td>\n",
       "      <td>Chandler</td>\n",
       "      <td>249355</td>\n",
       "      <td>259.47</td>\n",
       "      <td>2.01</td>\n",
       "      <td>52.13</td>\n",
       "      <td>56.95</td>\n",
       "      <td>148.38</td>\n",
       "      <td>2329.61</td>\n",
       "      <td>314.41</td>\n",
       "      <td>...</td>\n",
       "      <td>258.7</td>\n",
       "      <td>1.6</td>\n",
       "      <td>26.4</td>\n",
       "      <td>61.4</td>\n",
       "      <td>169.3</td>\n",
       "      <td>2707.2</td>\n",
       "      <td>472.6</td>\n",
       "      <td>2129.2</td>\n",
       "      <td>105.5</td>\n",
       "      <td>3813</td>\n",
       "    </tr>\n",
       "    <tr>\n",
       "      <th>1</th>\n",
       "      <td>Arizona</td>\n",
       "      <td>Gilbert</td>\n",
       "      <td>242090</td>\n",
       "      <td>85.51</td>\n",
       "      <td>2.07</td>\n",
       "      <td>16.11</td>\n",
       "      <td>21.07</td>\n",
       "      <td>46.26</td>\n",
       "      <td>1385.85</td>\n",
       "      <td>192.49</td>\n",
       "      <td>...</td>\n",
       "      <td>95.7</td>\n",
       "      <td>2.3</td>\n",
       "      <td>8.9</td>\n",
       "      <td>27.5</td>\n",
       "      <td>56.9</td>\n",
       "      <td>1580.3</td>\n",
       "      <td>338.8</td>\n",
       "      <td>1164.9</td>\n",
       "      <td>76.5</td>\n",
       "      <td>3487</td>\n",
       "    </tr>\n",
       "    <tr>\n",
       "      <th>2</th>\n",
       "      <td>Arizona</td>\n",
       "      <td>Glendale</td>\n",
       "      <td>249273</td>\n",
       "      <td>488.22</td>\n",
       "      <td>4.81</td>\n",
       "      <td>38.91</td>\n",
       "      <td>192.96</td>\n",
       "      <td>251.53</td>\n",
       "      <td>4530.37</td>\n",
       "      <td>637.45</td>\n",
       "      <td>...</td>\n",
       "      <td>491.4</td>\n",
       "      <td>5.2</td>\n",
       "      <td>23.2</td>\n",
       "      <td>177.3</td>\n",
       "      <td>285.8</td>\n",
       "      <td>6409.5</td>\n",
       "      <td>1221.9</td>\n",
       "      <td>4662.3</td>\n",
       "      <td>525.3</td>\n",
       "      <td>4161</td>\n",
       "    </tr>\n",
       "    <tr>\n",
       "      <th>3</th>\n",
       "      <td>Arizona</td>\n",
       "      <td>Glendale</td>\n",
       "      <td>249273</td>\n",
       "      <td>488.22</td>\n",
       "      <td>4.81</td>\n",
       "      <td>38.91</td>\n",
       "      <td>192.96</td>\n",
       "      <td>251.53</td>\n",
       "      <td>4530.37</td>\n",
       "      <td>637.45</td>\n",
       "      <td>...</td>\n",
       "      <td>491.4</td>\n",
       "      <td>5.2</td>\n",
       "      <td>23.2</td>\n",
       "      <td>177.3</td>\n",
       "      <td>285.8</td>\n",
       "      <td>6409.5</td>\n",
       "      <td>1221.9</td>\n",
       "      <td>4662.3</td>\n",
       "      <td>525.3</td>\n",
       "      <td>6606</td>\n",
       "    </tr>\n",
       "    <tr>\n",
       "      <th>4</th>\n",
       "      <td>Arizona</td>\n",
       "      <td>Glendale</td>\n",
       "      <td>249273</td>\n",
       "      <td>488.22</td>\n",
       "      <td>4.81</td>\n",
       "      <td>38.91</td>\n",
       "      <td>192.96</td>\n",
       "      <td>251.53</td>\n",
       "      <td>4530.37</td>\n",
       "      <td>637.45</td>\n",
       "      <td>...</td>\n",
       "      <td>119.5</td>\n",
       "      <td>-</td>\n",
       "      <td>3.1</td>\n",
       "      <td>55.4</td>\n",
       "      <td>61.1</td>\n",
       "      <td>1561.3</td>\n",
       "      <td>264.7</td>\n",
       "      <td>1138.0</td>\n",
       "      <td>158.5</td>\n",
       "      <td>4161</td>\n",
       "    </tr>\n",
       "  </tbody>\n",
       "</table>\n",
       "<p>5 rows × 25 columns</p>\n",
       "</div>"
      ],
      "text/plain": [
       "   State_x      City  Population_x   Total  \\\n",
       "0  Arizona  Chandler        249355  259.47   \n",
       "1  Arizona   Gilbert        242090   85.51   \n",
       "2  Arizona  Glendale        249273  488.22   \n",
       "3  Arizona  Glendale        249273  488.22   \n",
       "4  Arizona  Glendale        249273  488.22   \n",
       "\n",
       "   Murder and Nonnegligent manslaughter  Rape1  Robbery_x  \\\n",
       "0                                  2.01  52.13      56.95   \n",
       "1                                  2.07  16.11      21.07   \n",
       "2                                  4.81  38.91     192.96   \n",
       "3                                  4.81  38.91     192.96   \n",
       "4                                  4.81  38.91     192.96   \n",
       "\n",
       "   Aggravated assault_x    Total  Burglary_x  ...  Violent Crime  \\\n",
       "0                148.38  2329.61      314.41  ...          258.7   \n",
       "1                 46.26  1385.85      192.49  ...           95.7   \n",
       "2                251.53  4530.37      637.45  ...          491.4   \n",
       "3                251.53  4530.37      637.45  ...          491.4   \n",
       "4                251.53  4530.37      637.45  ...          119.5   \n",
       "\n",
       "   Murder and nonnegligent manslaughter  Forcible rape Robbery_y  \\\n",
       "0                                   1.6           26.4      61.4   \n",
       "1                                   2.3            8.9      27.5   \n",
       "2                                   5.2           23.2     177.3   \n",
       "3                                   5.2           23.2     177.3   \n",
       "4                                     -            3.1      55.4   \n",
       "\n",
       "   Aggravated assault_y  Property crime Burglary_y  Larceny-theft_y  \\\n",
       "0                 169.3          2707.2      472.6           2129.2   \n",
       "1                  56.9          1580.3      338.8           1164.9   \n",
       "2                 285.8          6409.5     1221.9           4662.3   \n",
       "3                 285.8          6409.5     1221.9           4662.3   \n",
       "4                  61.1          1561.3      264.7           1138.0   \n",
       "\n",
       "   Motor vehicle theft_y  2016 population density  \n",
       "0                  105.5                     3813  \n",
       "1                   76.5                     3487  \n",
       "2                  525.3                     4161  \n",
       "3                  525.3                     6606  \n",
       "4                  158.5                     4161  \n",
       "\n",
       "[5 rows x 25 columns]"
      ]
     },
     "execution_count": 138,
     "metadata": {},
     "output_type": "execute_result"
    }
   ],
   "source": [
    "# Create dataframe with city and population columns from original data. Merge it on 'City' with the new crime data\n",
    "\n",
    "crime_merged = pd.merge(crime, crime2, on = 'City', how='inner')\n",
    "cit_pop = df[['City','2016 population density']]\n",
    "pop_merged = pd.merge(crime_merged, cit_pop, on='City', how='inner')\n",
    "pop_merged\n",
    "\n",
    "pop_merged['2016 population density'] = pop_merged['2016 population density'].str[:-6]\n",
    "pop_merged['2016 population density'] = pop_merged['2016 population density'].str.replace(',','')\n",
    "pop_merged['2016 population density'] = pd.to_numeric(pop_merged['2016 population density'])\n",
    "pop_merged.head()"
   ]
  },
  {
   "cell_type": "markdown",
   "metadata": {},
   "source": [
    "### Make a scatterplot\n",
    "\n",
    "    - By observing the scatterplot with regression lines on a facet grid, we can observe that there is not much of a relationship between population density and crime rates. This is observable by the somewhat flat regression line and large confidence interval.\n",
    "    \n",
    "    - By computing correlation coefficients, we obtain values of -0.20 (population density ~ Violent crime) and a    -0.13 (population density ~ Property crime). These numbers suggest that there is a negative relationship (as one increases, the other decreases), but since the number is somewhat close to zero, it does not have a very large relationship."
   ]
  },
  {
   "cell_type": "code",
   "execution_count": 145,
   "metadata": {},
   "outputs": [
    {
     "data": {
      "text/plain": [
       "<seaborn.axisgrid.FacetGrid at 0x1a25197438>"
      ]
     },
     "execution_count": 145,
     "metadata": {},
     "output_type": "execute_result"
    },
    {
     "data": {
      "image/png": "[encoded data removed]",
      "text/plain": [
       "<Figure size 360x360 with 1 Axes>"
      ]
     },
     "metadata": {
      "needs_background": "light"
     },
     "output_type": "display_data"
    },
    {
     "data": {
      "image/png": "[encoded data removed]",
      "text/plain": [
       "<Figure size 360x360 with 1 Axes>"
      ]
     },
     "metadata": {
      "needs_background": "light"
     },
     "output_type": "display_data"
    }
   ],
   "source": [
    "sns.lmplot(x='2016 population density', y='Violent Crime', data = pop_merged)\n",
    "sns.lmplot(x='2016 population density', y='Property crime', data = pop_merged)"
   ]
  },
  {
   "cell_type": "code",
   "execution_count": 147,
   "metadata": {},
   "outputs": [
    {
     "name": "stdout",
     "output_type": "stream",
     "text": [
      "-0.2089127537570482\n",
      "-0.12711262636638643\n"
     ]
    }
   ],
   "source": [
    "print(pop_merged['2016 population density'].corr(pop_merged['Violent Crime']))\n",
    "print(pop_merged['2016 population density'].corr(pop_merged['Property crime']))"
   ]
  },
  {
   "cell_type": "markdown",
   "metadata": {},
   "source": [
    "## Part 3"
   ]
  },
  {
   "cell_type": "code",
   "execution_count": null,
   "metadata": {},
   "outputs": [],
   "source": []
  },
  {
   "cell_type": "code",
   "execution_count": null,
   "metadata": {},
   "outputs": [],
   "source": []
  },
  {
   "cell_type": "code",
   "execution_count": null,
   "metadata": {},
   "outputs": [],
   "source": []
  },
  {
   "cell_type": "code",
   "execution_count": null,
   "metadata": {},
   "outputs": [],
   "source": []
  }
 ],
 "metadata": {
  "kernelspec": {
   "display_name": "Python 3",
   "language": "python",
   "name": "python3"
  },
  "language_info": {
   "codemirror_mode": {
    "name": "ipython",
    "version": 3
   },
   "file_extension": ".py",
   "mimetype": "text/x-python",
   "name": "python",
   "nbconvert_exporter": "python",
   "pygments_lexer": "ipython3",
   "version": "3.7.3"
  }
 },
 "nbformat": 4,
 "nbformat_minor": 2
}
