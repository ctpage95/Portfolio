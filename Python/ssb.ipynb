{
 "cells": [
  {
   "cell_type": "code",
   "execution_count": 672,
   "metadata": {},
   "outputs": [],
   "source": [
    "import pandas as pd\n",
    "import numpy as np\n",
    "from lxml import etree \n",
    "import urllib\n",
    "import os\n",
    "import requests\n",
    "from bs4 import BeautifulSoup\n",
    "import re\n",
    "import seaborn as sns\n",
    "from functools import reduce\n",
    "\n",
    "import matplotlib.pyplot as plt"
   ]
  },
  {
   "cell_type": "code",
   "execution_count": 673,
   "metadata": {},
   "outputs": [],
   "source": [
    "tables = pd.read_html(\"https://ultimateframedata.com/stats.php\")\n",
    "\n",
    "stats1 = pd.DataFrame(tables[1]).rename(columns={'Character': 'Name'})\n",
    "stats2 = pd.DataFrame(tables[2]).rename(columns={'Character': 'Name'})\n",
    "stats3 = pd.DataFrame(tables[3]).rename(columns={'Character': 'Name'})\n",
    "stats4 = pd.DataFrame(tables[4]).rename(columns={'Character': 'Name'})\n",
    "stats5 = pd.DataFrame(tables[5]).rename(columns={'Character': 'Name'})\n",
    "stats6 = pd.DataFrame(tables[6]).rename(columns={'Character': 'Name'})\n",
    "stats7 = pd.DataFrame(tables[7]).rename(columns={'Character': 'Name'})\n",
    "stats8 = pd.DataFrame(tables[8]).rename(columns={'Character': 'Name'})\n",
    "stats9 = pd.DataFrame(tables[9]).rename(columns={'Character': 'Name'})\n",
    "stats10 = pd.DataFrame(tables[10]).rename(columns={'Character': 'Name'})\n",
    "stats11 = pd.DataFrame(tables[11]).rename(columns={'Character': 'Name'})\n",
    "stats12 = pd.DataFrame(tables[12]).rename(columns={'Character': 'Name'})\n",
    "\n",
    "#stats = stats1.rename(columns={'Character': 'Name'})\n",
    "#stats.head()\n",
    "#all_characters = list(stats['Character'])\n",
    "\n",
    "dfs = [stats1, stats2,stats3, stats4,stats5, stats6,stats8,stats9,stats10,stats11,stats12]\n",
    "\n",
    "alldata = stats1.merge(stats2, on = 'Name')\n",
    "alldata = reduce(lambda  left,right: pd.merge(left,right,on=['Name']), dfs)\n",
    "alldata_names = alldata['Name']"
   ]
  },
  {
   "cell_type": "code",
   "execution_count": null,
   "metadata": {},
   "outputs": [],
   "source": []
  },
  {
   "cell_type": "code",
   "execution_count": 674,
   "metadata": {},
   "outputs": [],
   "source": [
    "perc_url = \"https://ssbworld.com/characters/win-percentage/\"\n",
    "r2 = requests.get(perc_url)\n",
    "soup2 = BeautifulSoup(r2.text, 'html.parser')\n",
    "\n",
    "fields2 = list(soup2.findAll(['div','a href'] , attrs={'class': re.compile(\"player-meta\")}))\n",
    "\n",
    "tags = soup2.find_all('a')\n",
    "urls = []\n",
    "for tag in tags:\n",
    "    urls.append(tag.get('href'))\n",
    "    \n",
    "urls = urls[28:92]"
   ]
  },
  {
   "cell_type": "code",
   "execution_count": 675,
   "metadata": {},
   "outputs": [],
   "source": [
    "# Don't think I used this... just didn't delete just in case. Can probably keep it commented out.\n",
    "\n",
    "# str1 = map(str,fields2)\n",
    "# res = list(map(lambda i: i[ : -10], str1)) \n",
    "\n",
    "# name = []\n",
    "# for i in res:\n",
    "#     name.append(i.split('\">'))\n",
    "\n",
    "# all_names = []\n",
    "# for i in name:\n",
    "#     all_names.append(i[2])\n",
    "    \n",
    "# all_names = all_names[64:]\n",
    "# all_names = [w.replace('&amp;', '&') for w in all_names]\n",
    "\n",
    "# all_names"
   ]
  },
  {
   "cell_type": "code",
   "execution_count": 676,
   "metadata": {},
   "outputs": [],
   "source": [
    "allurls = []\n",
    "for i in range(0,len(urls)):\n",
    "    allurls.append(\"https://ssbworld.com\" + urls[i])"
   ]
  },
  {
   "cell_type": "code",
   "execution_count": 677,
   "metadata": {
    "scrolled": false
   },
   "outputs": [],
   "source": [
    "soup = BeautifulSoup(r.text, 'html.parser')\n",
    "#print(soup.prettify())"
   ]
  },
  {
   "cell_type": "code",
   "execution_count": 678,
   "metadata": {},
   "outputs": [],
   "source": [
    "# final_df = pd.DataFrame()\n",
    "# for i in allurls:\n",
    "    \n",
    "#     char_url = i\n",
    "#     r = requests.get(char_url)\n",
    "#     soup = BeautifulSoup(r.text, 'html.parser')\n",
    "#     name_field= soup.find_all([\"h1\"],{\"class\":\"bio\"})\n",
    "#     fields = soup.find_all([\"h2\",\"div\"],{\"class\":\"player-stat\"})\n",
    "    \n",
    "#     name_list = []\n",
    "#     for f in name_field:\n",
    "#         name_list.append(f.text)\n",
    "\n",
    "#     rec_list = []\n",
    "#     for f in fields:\n",
    "#         rec_list.append(f.text)\n",
    "        \n",
    "#     # Create a dictionary with the data\n",
    "#     d = {}\n",
    "#     d['Name'] = name_list[0]\n",
    "#     d['Record'] = rec_list[0]\n",
    "#     d['Percent'] = rec_list[1]\n",
    "\n",
    "#     # Clean the lists and get only the records and percentages\n",
    "#     char_df = pd.DataFrame()\n",
    "#     char_df = (pd.DataFrame.from_dict(d, orient=\"index\")).T\n",
    "#     char_df['Record'] = char_df['Record'].str[-12:]\n",
    "#     char_df['Percent'] = char_df['Percent'].str[-6:-1]\n",
    "#     char_df['Record'] = char_df['Record'].str.strip(':')\n",
    "#     char_df['Percent'] = char_df['Percent'].str.strip(':')\n",
    "#     char_df['Record'] = char_df['Record'].str.strip(',')\n",
    "#     char_df['Record'] = char_df['Record'].str.strip('ord:')\n",
    "\n",
    "#     # Create the wins and losses columns from record\n",
    "#     char_df['Wins'] = char_df['Record'].str.split(' - ', expand = True)[0]\n",
    "#     char_df['Losses'] = char_df['Record'].str.split(' - ', expand = True)[1]\n",
    "\n",
    "#     final_df = final_df.append(char_df,ignore_index=True)\n",
    "    \n",
    "# #final_df\n",
    "\n",
    "# #final_df.to_csv('ssb.csv', index=False)"
   ]
  },
  {
   "cell_type": "code",
   "execution_count": 679,
   "metadata": {},
   "outputs": [],
   "source": [
    "final_df = pd.read_csv('ssb.csv')"
   ]
  },
  {
   "cell_type": "code",
   "execution_count": 680,
   "metadata": {},
   "outputs": [
    {
     "data": {
      "text/html": [
       "<div>\n",
       "<style scoped>\n",
       "    .dataframe tbody tr th:only-of-type {\n",
       "        vertical-align: middle;\n",
       "    }\n",
       "\n",
       "    .dataframe tbody tr th {\n",
       "        vertical-align: top;\n",
       "    }\n",
       "\n",
       "    .dataframe thead th {\n",
       "        text-align: right;\n",
       "    }\n",
       "</style>\n",
       "<table border=\"1\" class=\"dataframe\">\n",
       "  <thead>\n",
       "    <tr style=\"text-align: right;\">\n",
       "      <th></th>\n",
       "      <th>Name</th>\n",
       "      <th>Record</th>\n",
       "      <th>Percent</th>\n",
       "      <th>Wins</th>\n",
       "      <th>Losses</th>\n",
       "    </tr>\n",
       "  </thead>\n",
       "  <tbody>\n",
       "    <tr>\n",
       "      <td>0</td>\n",
       "      <td>Wario</td>\n",
       "      <td>541 - 371</td>\n",
       "      <td>59.32</td>\n",
       "      <td>541</td>\n",
       "      <td>371</td>\n",
       "    </tr>\n",
       "    <tr>\n",
       "      <td>1</td>\n",
       "      <td>Joker</td>\n",
       "      <td>618 - 430</td>\n",
       "      <td>58.97</td>\n",
       "      <td>618</td>\n",
       "      <td>430</td>\n",
       "    </tr>\n",
       "    <tr>\n",
       "      <td>2</td>\n",
       "      <td>Zero Suit Samus</td>\n",
       "      <td>1,044 - 737</td>\n",
       "      <td>58.62</td>\n",
       "      <td>1,044</td>\n",
       "      <td>737</td>\n",
       "    </tr>\n",
       "    <tr>\n",
       "      <td>3</td>\n",
       "      <td>Duck Hunt</td>\n",
       "      <td>280 - 202</td>\n",
       "      <td>58.09</td>\n",
       "      <td>280</td>\n",
       "      <td>202</td>\n",
       "    </tr>\n",
       "    <tr>\n",
       "      <td>4</td>\n",
       "      <td>Olimar</td>\n",
       "      <td>698 - 543</td>\n",
       "      <td>56.24</td>\n",
       "      <td>698</td>\n",
       "      <td>543</td>\n",
       "    </tr>\n",
       "  </tbody>\n",
       "</table>\n",
       "</div>"
      ],
      "text/plain": [
       "              Name       Record  Percent   Wins Losses\n",
       "0            Wario    541 - 371    59.32    541    371\n",
       "1            Joker    618 - 430    58.97    618    430\n",
       "2  Zero Suit Samus  1,044 - 737    58.62  1,044    737\n",
       "3        Duck Hunt    280 - 202    58.09    280    202\n",
       "4           Olimar    698 - 543    56.24    698    543"
      ]
     },
     "execution_count": 680,
     "metadata": {},
     "output_type": "execute_result"
    }
   ],
   "source": [
    "final_df.head()"
   ]
  },
  {
   "cell_type": "code",
   "execution_count": null,
   "metadata": {},
   "outputs": [],
   "source": []
  },
  {
   "cell_type": "code",
   "execution_count": 681,
   "metadata": {
    "scrolled": true
   },
   "outputs": [],
   "source": [
    "merged = final_df.merge(alldata, how='inner', on='Name')\n",
    "merged['Wins'] = merged['Wins'].str.replace(',','')\n",
    "merged['Losses'] = merged['Losses'].str.replace(',','')"
   ]
  },
  {
   "cell_type": "code",
   "execution_count": 682,
   "metadata": {},
   "outputs": [
    {
     "data": {
      "text/html": [
       "<div>\n",
       "<style scoped>\n",
       "    .dataframe tbody tr th:only-of-type {\n",
       "        vertical-align: middle;\n",
       "    }\n",
       "\n",
       "    .dataframe tbody tr th {\n",
       "        vertical-align: top;\n",
       "    }\n",
       "\n",
       "    .dataframe thead th {\n",
       "        text-align: right;\n",
       "    }\n",
       "</style>\n",
       "<table border=\"1\" class=\"dataframe\">\n",
       "  <thead>\n",
       "    <tr style=\"text-align: right;\">\n",
       "      <th></th>\n",
       "      <th>Name</th>\n",
       "      <th>Record</th>\n",
       "      <th>Percent</th>\n",
       "      <th>Wins</th>\n",
       "      <th>Losses</th>\n",
       "      <th>Rank_x</th>\n",
       "      <th>Air speed</th>\n",
       "      <th>Rank_y</th>\n",
       "      <th>Regular Fall</th>\n",
       "      <th>Fast Fall</th>\n",
       "      <th>...</th>\n",
       "      <th>2nd Fastest Move(s)</th>\n",
       "      <th>#3</th>\n",
       "      <th>3rd Fastest Move(s)</th>\n",
       "      <th>Grab</th>\n",
       "      <th>Grab, Post-Shieldstun</th>\n",
       "      <th>Item Throw(Forward)</th>\n",
       "      <th>Item Throw(Back)</th>\n",
       "      <th>Jump+Z-Drop (Front)</th>\n",
       "      <th>Jump+Z-Drop(Behind)</th>\n",
       "      <th>Key</th>\n",
       "    </tr>\n",
       "  </thead>\n",
       "  <tbody>\n",
       "    <tr>\n",
       "      <td>0</td>\n",
       "      <td>Wario</td>\n",
       "      <td>541 - 371</td>\n",
       "      <td>59.32</td>\n",
       "      <td>541</td>\n",
       "      <td>371</td>\n",
       "      <td>8</td>\n",
       "      <td>1.271</td>\n",
       "      <td>35</td>\n",
       "      <td>1.61</td>\n",
       "      <td>2.576</td>\n",
       "      <td>...</td>\n",
       "      <td>Nair</td>\n",
       "      <td>8</td>\n",
       "      <td>Fair</td>\n",
       "      <td>8</td>\n",
       "      <td>12</td>\n",
       "      <td>10</td>\n",
       "      <td>14</td>\n",
       "      <td>4</td>\n",
       "      <td>5</td>\n",
       "      <td>NaN</td>\n",
       "    </tr>\n",
       "    <tr>\n",
       "      <td>1</td>\n",
       "      <td>Zero Suit Samus</td>\n",
       "      <td>1,044 - 737</td>\n",
       "      <td>58.62</td>\n",
       "      <td>1044</td>\n",
       "      <td>737</td>\n",
       "      <td>9</td>\n",
       "      <td>1.260</td>\n",
       "      <td>23-25</td>\n",
       "      <td>1.70</td>\n",
       "      <td>2.720</td>\n",
       "      <td>...</td>\n",
       "      <td>Fair, Uair</td>\n",
       "      <td>10</td>\n",
       "      <td>Usmash</td>\n",
       "      <td>15</td>\n",
       "      <td>19</td>\n",
       "      <td>7</td>\n",
       "      <td>9</td>\n",
       "      <td>4</td>\n",
       "      <td>5</td>\n",
       "      <td>NaN</td>\n",
       "    </tr>\n",
       "    <tr>\n",
       "      <td>2</td>\n",
       "      <td>Duck Hunt</td>\n",
       "      <td>280 - 202</td>\n",
       "      <td>58.09</td>\n",
       "      <td>280</td>\n",
       "      <td>202</td>\n",
       "      <td>19-24</td>\n",
       "      <td>1.155</td>\n",
       "      <td>28-33</td>\n",
       "      <td>1.65</td>\n",
       "      <td>2.640</td>\n",
       "      <td>...</td>\n",
       "      <td>Fair, Bair</td>\n",
       "      <td>12</td>\n",
       "      <td>Usmash</td>\n",
       "      <td>6</td>\n",
       "      <td>10</td>\n",
       "      <td>6</td>\n",
       "      <td>11</td>\n",
       "      <td>4</td>\n",
       "      <td>5</td>\n",
       "      <td>NaN</td>\n",
       "    </tr>\n",
       "    <tr>\n",
       "      <td>3</td>\n",
       "      <td>Olimar</td>\n",
       "      <td>698 - 543</td>\n",
       "      <td>56.24</td>\n",
       "      <td>698</td>\n",
       "      <td>543</td>\n",
       "      <td>73</td>\n",
       "      <td>0.861</td>\n",
       "      <td>60-63</td>\n",
       "      <td>1.35</td>\n",
       "      <td>2.160</td>\n",
       "      <td>...</td>\n",
       "      <td>Uair</td>\n",
       "      <td>12</td>\n",
       "      <td>Dair, Usmash</td>\n",
       "      <td>12</td>\n",
       "      <td>16</td>\n",
       "      <td>8</td>\n",
       "      <td>11</td>\n",
       "      <td>4</td>\n",
       "      <td>5</td>\n",
       "      <td>NaN</td>\n",
       "    </tr>\n",
       "    <tr>\n",
       "      <td>4</td>\n",
       "      <td>Snake</td>\n",
       "      <td>1,184 - 959</td>\n",
       "      <td>55.25</td>\n",
       "      <td>1184</td>\n",
       "      <td>959</td>\n",
       "      <td>58-59</td>\n",
       "      <td>0.987</td>\n",
       "      <td>22</td>\n",
       "      <td>1.73</td>\n",
       "      <td>2.768</td>\n",
       "      <td>...</td>\n",
       "      <td>Bair</td>\n",
       "      <td>11</td>\n",
       "      <td>Usmash</td>\n",
       "      <td>8</td>\n",
       "      <td>12</td>\n",
       "      <td>8</td>\n",
       "      <td>11</td>\n",
       "      <td>4</td>\n",
       "      <td>5</td>\n",
       "      <td>NaN</td>\n",
       "    </tr>\n",
       "  </tbody>\n",
       "</table>\n",
       "<p>5 rows × 48 columns</p>\n",
       "</div>"
      ],
      "text/plain": [
       "              Name       Record  Percent  Wins Losses Rank_x  Air speed  \\\n",
       "0            Wario    541 - 371    59.32   541    371      8      1.271   \n",
       "1  Zero Suit Samus  1,044 - 737    58.62  1044    737      9      1.260   \n",
       "2        Duck Hunt    280 - 202    58.09   280    202  19-24      1.155   \n",
       "3           Olimar    698 - 543    56.24   698    543     73      0.861   \n",
       "4            Snake  1,184 - 959    55.25  1184    959  58-59      0.987   \n",
       "\n",
       "  Rank_y  Regular Fall  Fast Fall  ... 2nd Fastest Move(s)  #3  \\\n",
       "0     35          1.61      2.576  ...                Nair   8   \n",
       "1  23-25          1.70      2.720  ...          Fair, Uair  10   \n",
       "2  28-33          1.65      2.640  ...          Fair, Bair  12   \n",
       "3  60-63          1.35      2.160  ...                Uair  12   \n",
       "4     22          1.73      2.768  ...                Bair  11   \n",
       "\n",
       "  3rd Fastest Move(s) Grab Grab, Post-Shieldstun  Item Throw(Forward)  \\\n",
       "0                Fair    8                    12                   10   \n",
       "1              Usmash   15                    19                    7   \n",
       "2              Usmash    6                    10                    6   \n",
       "3        Dair, Usmash   12                    16                    8   \n",
       "4              Usmash    8                    12                    8   \n",
       "\n",
       "   Item Throw(Back)  Jump+Z-Drop (Front)  Jump+Z-Drop(Behind)  Key  \n",
       "0                14                    4                    5  NaN  \n",
       "1                 9                    4                    5  NaN  \n",
       "2                11                    4                    5  NaN  \n",
       "3                11                    4                    5  NaN  \n",
       "4                11                    4                    5  NaN  \n",
       "\n",
       "[5 rows x 48 columns]"
      ]
     },
     "execution_count": 682,
     "metadata": {},
     "output_type": "execute_result"
    }
   ],
   "source": [
    "merged.head()"
   ]
  },
  {
   "cell_type": "code",
   "execution_count": 616,
   "metadata": {},
   "outputs": [],
   "source": [
    "merged['Percent'] = pd.to_numeric(merged['Percent'])\n",
    "merged['Full Hop_x'] = pd.to_numeric(merged['Full Hop_x'])\n",
    "merged['Air Jump'] = pd.to_numeric(merged['Air Jump'])\n",
    "merged['Short Hop_x'] = pd.to_numeric(merged['Short Hop_x'])\n",
    "merged['Percent'] = pd.to_numeric(merged['Percent'])\n",
    "merged['Wins'] = pd.to_numeric(merged['Wins'])\n",
    "merged['Losses'] = pd.to_numeric(merged['Losses'])\n",
    "merged['Slow (Full Dash)'] = pd.to_numeric(merged['Slow (Full Dash)'].replace('??', '0'))"
   ]
  },
  {
   "cell_type": "code",
   "execution_count": 671,
   "metadata": {},
   "outputs": [
    {
     "data": {
      "text/html": [
       "<div>\n",
       "<style scoped>\n",
       "    .dataframe tbody tr th:only-of-type {\n",
       "        vertical-align: middle;\n",
       "    }\n",
       "\n",
       "    .dataframe tbody tr th {\n",
       "        vertical-align: top;\n",
       "    }\n",
       "\n",
       "    .dataframe thead th {\n",
       "        text-align: right;\n",
       "    }\n",
       "</style>\n",
       "<table border=\"1\" class=\"dataframe\">\n",
       "  <thead>\n",
       "    <tr style=\"text-align: right;\">\n",
       "      <th></th>\n",
       "      <th>Name</th>\n",
       "      <th>Percent</th>\n",
       "      <th>Wins</th>\n",
       "      <th>Losses</th>\n",
       "      <th>Air speed</th>\n",
       "      <th>Regular Fall</th>\n",
       "      <th>Fast Fall</th>\n",
       "      <th>Gravity</th>\n",
       "      <th>Full Hop_x</th>\n",
       "      <th>Short Hop_x</th>\n",
       "      <th>...</th>\n",
       "      <th>Slow (Full Dash)</th>\n",
       "      <th>#1</th>\n",
       "      <th>#2</th>\n",
       "      <th>#3</th>\n",
       "      <th>Grab</th>\n",
       "      <th>Grab, Post-Shieldstun</th>\n",
       "      <th>Item Throw(Forward)</th>\n",
       "      <th>Item Throw(Back)</th>\n",
       "      <th>Jump+Z-Drop (Front)</th>\n",
       "      <th>Jump+Z-Drop(Behind)</th>\n",
       "    </tr>\n",
       "  </thead>\n",
       "  <tbody>\n",
       "    <tr>\n",
       "      <td>0</td>\n",
       "      <td>Wario</td>\n",
       "      <td>59.32</td>\n",
       "      <td>541</td>\n",
       "      <td>371</td>\n",
       "      <td>1.271</td>\n",
       "      <td>1.61</td>\n",
       "      <td>2.576</td>\n",
       "      <td>0.107</td>\n",
       "      <td>30.50</td>\n",
       "      <td>14.70</td>\n",
       "      <td>...</td>\n",
       "      <td>13</td>\n",
       "      <td>6</td>\n",
       "      <td>7</td>\n",
       "      <td>8</td>\n",
       "      <td>8</td>\n",
       "      <td>12</td>\n",
       "      <td>10</td>\n",
       "      <td>14</td>\n",
       "      <td>4</td>\n",
       "      <td>5</td>\n",
       "    </tr>\n",
       "    <tr>\n",
       "      <td>1</td>\n",
       "      <td>Zero Suit Samus</td>\n",
       "      <td>58.62</td>\n",
       "      <td>1044</td>\n",
       "      <td>737</td>\n",
       "      <td>1.260</td>\n",
       "      <td>1.70</td>\n",
       "      <td>2.720</td>\n",
       "      <td>0.120</td>\n",
       "      <td>44.50</td>\n",
       "      <td>21.35</td>\n",
       "      <td>...</td>\n",
       "      <td>13</td>\n",
       "      <td>4</td>\n",
       "      <td>9</td>\n",
       "      <td>10</td>\n",
       "      <td>15</td>\n",
       "      <td>19</td>\n",
       "      <td>7</td>\n",
       "      <td>9</td>\n",
       "      <td>4</td>\n",
       "      <td>5</td>\n",
       "    </tr>\n",
       "    <tr>\n",
       "      <td>2</td>\n",
       "      <td>Duck Hunt</td>\n",
       "      <td>58.09</td>\n",
       "      <td>280</td>\n",
       "      <td>202</td>\n",
       "      <td>1.155</td>\n",
       "      <td>1.65</td>\n",
       "      <td>2.640</td>\n",
       "      <td>0.076</td>\n",
       "      <td>34.00</td>\n",
       "      <td>16.48</td>\n",
       "      <td>...</td>\n",
       "      <td>11</td>\n",
       "      <td>9</td>\n",
       "      <td>10</td>\n",
       "      <td>12</td>\n",
       "      <td>6</td>\n",
       "      <td>10</td>\n",
       "      <td>6</td>\n",
       "      <td>11</td>\n",
       "      <td>4</td>\n",
       "      <td>5</td>\n",
       "    </tr>\n",
       "    <tr>\n",
       "      <td>3</td>\n",
       "      <td>Olimar</td>\n",
       "      <td>56.24</td>\n",
       "      <td>698</td>\n",
       "      <td>543</td>\n",
       "      <td>0.861</td>\n",
       "      <td>1.35</td>\n",
       "      <td>2.160</td>\n",
       "      <td>0.068</td>\n",
       "      <td>33.50</td>\n",
       "      <td>16.19</td>\n",
       "      <td>...</td>\n",
       "      <td>11</td>\n",
       "      <td>10</td>\n",
       "      <td>11</td>\n",
       "      <td>12</td>\n",
       "      <td>12</td>\n",
       "      <td>16</td>\n",
       "      <td>8</td>\n",
       "      <td>11</td>\n",
       "      <td>4</td>\n",
       "      <td>5</td>\n",
       "    </tr>\n",
       "    <tr>\n",
       "      <td>4</td>\n",
       "      <td>Snake</td>\n",
       "      <td>55.25</td>\n",
       "      <td>1184</td>\n",
       "      <td>959</td>\n",
       "      <td>0.987</td>\n",
       "      <td>1.73</td>\n",
       "      <td>2.768</td>\n",
       "      <td>0.080</td>\n",
       "      <td>21.62</td>\n",
       "      <td>13.69</td>\n",
       "      <td>...</td>\n",
       "      <td>11</td>\n",
       "      <td>6</td>\n",
       "      <td>10</td>\n",
       "      <td>11</td>\n",
       "      <td>8</td>\n",
       "      <td>12</td>\n",
       "      <td>8</td>\n",
       "      <td>11</td>\n",
       "      <td>4</td>\n",
       "      <td>5</td>\n",
       "    </tr>\n",
       "  </tbody>\n",
       "</table>\n",
       "<p>5 rows × 31 columns</p>\n",
       "</div>"
      ],
      "text/plain": [
       "              Name  Percent  Wins  Losses  Air speed  Regular Fall  Fast Fall  \\\n",
       "0            Wario    59.32   541     371      1.271          1.61      2.576   \n",
       "1  Zero Suit Samus    58.62  1044     737      1.260          1.70      2.720   \n",
       "2        Duck Hunt    58.09   280     202      1.155          1.65      2.640   \n",
       "3           Olimar    56.24   698     543      0.861          1.35      2.160   \n",
       "4            Snake    55.25  1184     959      0.987          1.73      2.768   \n",
       "\n",
       "   Gravity  Full Hop_x  Short Hop_x  ...  Slow (Full Dash)  #1  #2  #3  Grab  \\\n",
       "0    0.107       30.50        14.70  ...                13   6   7   8     8   \n",
       "1    0.120       44.50        21.35  ...                13   4   9  10    15   \n",
       "2    0.076       34.00        16.48  ...                11   9  10  12     6   \n",
       "3    0.068       33.50        16.19  ...                11  10  11  12    12   \n",
       "4    0.080       21.62        13.69  ...                11   6  10  11     8   \n",
       "\n",
       "   Grab, Post-Shieldstun  Item Throw(Forward)  Item Throw(Back)  \\\n",
       "0                     12                   10                14   \n",
       "1                     19                    7                 9   \n",
       "2                     10                    6                11   \n",
       "3                     16                    8                11   \n",
       "4                     12                    8                11   \n",
       "\n",
       "   Jump+Z-Drop (Front)  Jump+Z-Drop(Behind)  \n",
       "0                    4                    5  \n",
       "1                    4                    5  \n",
       "2                    4                    5  \n",
       "3                    4                    5  \n",
       "4                    4                    5  \n",
       "\n",
       "[5 rows x 31 columns]"
      ]
     },
     "execution_count": 671,
     "metadata": {},
     "output_type": "execute_result"
    }
   ],
   "source": [
    "merged.head()"
   ]
  },
  {
   "cell_type": "code",
   "execution_count": 617,
   "metadata": {},
   "outputs": [],
   "source": [
    "#merged.to_csv('merged.csv', index=False)"
   ]
  },
  {
   "cell_type": "code",
   "execution_count": 618,
   "metadata": {},
   "outputs": [
    {
     "data": {
      "text/plain": [
       "<matplotlib.axes._subplots.AxesSubplot at 0x1a4b9d59d0>"
      ]
     },
     "execution_count": 618,
     "metadata": {},
     "output_type": "execute_result"
    },
    {
     "data": {
      "image/png": "[encoded data removed]",
      "text/plain": [
       "<Figure size 842.4x595.44 with 1 Axes>"
      ]
     },
     "metadata": {},
     "output_type": "display_data"
    }
   ],
   "source": [
    "sns.regplot(x='Percent', y='Run Speed', data=merged)"
   ]
  },
  {
   "cell_type": "code",
   "execution_count": 619,
   "metadata": {},
   "outputs": [
    {
     "data": {
      "text/plain": [
       "<matplotlib.axes._subplots.AxesSubplot at 0x1a4bc5e410>"
      ]
     },
     "execution_count": 619,
     "metadata": {},
     "output_type": "execute_result"
    },
    {
     "data": {
      "image/png": "[encoded data removed]",
      "text/plain": [
       "<Figure size 842.4x595.44 with 1 Axes>"
      ]
     },
     "metadata": {},
     "output_type": "display_data"
    }
   ],
   "source": [
    "sns.regplot(x='Percent', y='Air Jump', data=merged)"
   ]
  },
  {
   "cell_type": "code",
   "execution_count": 620,
   "metadata": {},
   "outputs": [
    {
     "data": {
      "text/plain": [
       "<matplotlib.axes._subplots.AxesSubplot at 0x1a4bf4ad50>"
      ]
     },
     "execution_count": 620,
     "metadata": {},
     "output_type": "execute_result"
    },
    {
     "data": {
      "image/png": "[encoded data removed]",
      "text/plain": [
       "<Figure size 842.4x595.44 with 1 Axes>"
      ]
     },
     "metadata": {},
     "output_type": "display_data"
    }
   ],
   "source": [
    "sns.regplot(x='Percent', y='Weight', data=merged)"
   ]
  },
  {
   "cell_type": "code",
   "execution_count": 623,
   "metadata": {},
   "outputs": [],
   "source": [
    "merged.to_csv('merged.csv', index = False)\n",
    "merged = pd.read_csv('merged.csv')\n",
    "#names = pd.DataFrame(merged['Name'])"
   ]
  },
  {
   "cell_type": "code",
   "execution_count": 624,
   "metadata": {},
   "outputs": [],
   "source": [
    "merged = merged.select_dtypes(include=['int64', 'float'])\n",
    "merged = names.join(merged)"
   ]
  },
  {
   "cell_type": "code",
   "execution_count": 625,
   "metadata": {},
   "outputs": [],
   "source": [
    "w = pd.DataFrame()\n",
    "l = pd.DataFrame()\n",
    "merged.iloc[0][3]\n",
    "\n",
    "for j in range(0,len(merged)):\n",
    "    \n",
    "    for i in range(1,merged.iloc[0][2]):\n",
    "        w = w.append(merged.iloc[j:j+1], sort = False)\n",
    "    w['Result'] = 1\n",
    "\n",
    "    for i in range(1,merged.iloc[0][3]):\n",
    "        l = l.append(merged.iloc[j:j+1], sort = False)\n",
    "    l['Result'] = 0\n",
    "\n",
    "    tot = w.append(l)"
   ]
  },
  {
   "cell_type": "code",
   "execution_count": null,
   "metadata": {},
   "outputs": [],
   "source": []
  },
  {
   "cell_type": "code",
   "execution_count": 626,
   "metadata": {},
   "outputs": [],
   "source": [
    "tot.to_csv(\"final.csv\", index = False)"
   ]
  },
  {
   "cell_type": "code",
   "execution_count": 627,
   "metadata": {},
   "outputs": [],
   "source": [
    "final = pd.read_csv('final.csv')"
   ]
  },
  {
   "cell_type": "code",
   "execution_count": 628,
   "metadata": {},
   "outputs": [
    {
     "data": {
      "text/html": [
       "<div>\n",
       "<style scoped>\n",
       "    .dataframe tbody tr th:only-of-type {\n",
       "        vertical-align: middle;\n",
       "    }\n",
       "\n",
       "    .dataframe tbody tr th {\n",
       "        vertical-align: top;\n",
       "    }\n",
       "\n",
       "    .dataframe thead th {\n",
       "        text-align: right;\n",
       "    }\n",
       "</style>\n",
       "<table border=\"1\" class=\"dataframe\">\n",
       "  <thead>\n",
       "    <tr style=\"text-align: right;\">\n",
       "      <th></th>\n",
       "      <th>Name</th>\n",
       "      <th>Percent</th>\n",
       "      <th>Wins</th>\n",
       "      <th>Losses</th>\n",
       "      <th>Air speed</th>\n",
       "      <th>Regular Fall</th>\n",
       "      <th>Fast Fall</th>\n",
       "      <th>Gravity</th>\n",
       "      <th>Full Hop_x</th>\n",
       "      <th>Short Hop_x</th>\n",
       "      <th>...</th>\n",
       "      <th>#1</th>\n",
       "      <th>#2</th>\n",
       "      <th>#3</th>\n",
       "      <th>Grab</th>\n",
       "      <th>Grab, Post-Shieldstun</th>\n",
       "      <th>Item Throw(Forward)</th>\n",
       "      <th>Item Throw(Back)</th>\n",
       "      <th>Jump+Z-Drop (Front)</th>\n",
       "      <th>Jump+Z-Drop(Behind)</th>\n",
       "      <th>Result</th>\n",
       "    </tr>\n",
       "  </thead>\n",
       "  <tbody>\n",
       "    <tr>\n",
       "      <td>0</td>\n",
       "      <td>Wario</td>\n",
       "      <td>59.32</td>\n",
       "      <td>541</td>\n",
       "      <td>371</td>\n",
       "      <td>1.271</td>\n",
       "      <td>1.61</td>\n",
       "      <td>2.576</td>\n",
       "      <td>0.107</td>\n",
       "      <td>30.5</td>\n",
       "      <td>14.70</td>\n",
       "      <td>...</td>\n",
       "      <td>6</td>\n",
       "      <td>7</td>\n",
       "      <td>8</td>\n",
       "      <td>8</td>\n",
       "      <td>12</td>\n",
       "      <td>10</td>\n",
       "      <td>14</td>\n",
       "      <td>4</td>\n",
       "      <td>5</td>\n",
       "      <td>1</td>\n",
       "    </tr>\n",
       "    <tr>\n",
       "      <td>1</td>\n",
       "      <td>Wario</td>\n",
       "      <td>59.32</td>\n",
       "      <td>541</td>\n",
       "      <td>371</td>\n",
       "      <td>1.271</td>\n",
       "      <td>1.61</td>\n",
       "      <td>2.576</td>\n",
       "      <td>0.107</td>\n",
       "      <td>30.5</td>\n",
       "      <td>14.70</td>\n",
       "      <td>...</td>\n",
       "      <td>6</td>\n",
       "      <td>7</td>\n",
       "      <td>8</td>\n",
       "      <td>8</td>\n",
       "      <td>12</td>\n",
       "      <td>10</td>\n",
       "      <td>14</td>\n",
       "      <td>4</td>\n",
       "      <td>5</td>\n",
       "      <td>1</td>\n",
       "    </tr>\n",
       "    <tr>\n",
       "      <td>2</td>\n",
       "      <td>Wario</td>\n",
       "      <td>59.32</td>\n",
       "      <td>541</td>\n",
       "      <td>371</td>\n",
       "      <td>1.271</td>\n",
       "      <td>1.61</td>\n",
       "      <td>2.576</td>\n",
       "      <td>0.107</td>\n",
       "      <td>30.5</td>\n",
       "      <td>14.70</td>\n",
       "      <td>...</td>\n",
       "      <td>6</td>\n",
       "      <td>7</td>\n",
       "      <td>8</td>\n",
       "      <td>8</td>\n",
       "      <td>12</td>\n",
       "      <td>10</td>\n",
       "      <td>14</td>\n",
       "      <td>4</td>\n",
       "      <td>5</td>\n",
       "      <td>1</td>\n",
       "    </tr>\n",
       "    <tr>\n",
       "      <td>3</td>\n",
       "      <td>Wario</td>\n",
       "      <td>59.32</td>\n",
       "      <td>541</td>\n",
       "      <td>371</td>\n",
       "      <td>1.271</td>\n",
       "      <td>1.61</td>\n",
       "      <td>2.576</td>\n",
       "      <td>0.107</td>\n",
       "      <td>30.5</td>\n",
       "      <td>14.70</td>\n",
       "      <td>...</td>\n",
       "      <td>6</td>\n",
       "      <td>7</td>\n",
       "      <td>8</td>\n",
       "      <td>8</td>\n",
       "      <td>12</td>\n",
       "      <td>10</td>\n",
       "      <td>14</td>\n",
       "      <td>4</td>\n",
       "      <td>5</td>\n",
       "      <td>1</td>\n",
       "    </tr>\n",
       "    <tr>\n",
       "      <td>4</td>\n",
       "      <td>Wario</td>\n",
       "      <td>59.32</td>\n",
       "      <td>541</td>\n",
       "      <td>371</td>\n",
       "      <td>1.271</td>\n",
       "      <td>1.61</td>\n",
       "      <td>2.576</td>\n",
       "      <td>0.107</td>\n",
       "      <td>30.5</td>\n",
       "      <td>14.70</td>\n",
       "      <td>...</td>\n",
       "      <td>6</td>\n",
       "      <td>7</td>\n",
       "      <td>8</td>\n",
       "      <td>8</td>\n",
       "      <td>12</td>\n",
       "      <td>10</td>\n",
       "      <td>14</td>\n",
       "      <td>4</td>\n",
       "      <td>5</td>\n",
       "      <td>1</td>\n",
       "    </tr>\n",
       "    <tr>\n",
       "      <td>...</td>\n",
       "      <td>...</td>\n",
       "      <td>...</td>\n",
       "      <td>...</td>\n",
       "      <td>...</td>\n",
       "      <td>...</td>\n",
       "      <td>...</td>\n",
       "      <td>...</td>\n",
       "      <td>...</td>\n",
       "      <td>...</td>\n",
       "      <td>...</td>\n",
       "      <td>...</td>\n",
       "      <td>...</td>\n",
       "      <td>...</td>\n",
       "      <td>...</td>\n",
       "      <td>...</td>\n",
       "      <td>...</td>\n",
       "      <td>...</td>\n",
       "      <td>...</td>\n",
       "      <td>...</td>\n",
       "      <td>...</td>\n",
       "      <td>...</td>\n",
       "    </tr>\n",
       "    <tr>\n",
       "      <td>52775</td>\n",
       "      <td>Isabelle</td>\n",
       "      <td>38.37</td>\n",
       "      <td>94</td>\n",
       "      <td>151</td>\n",
       "      <td>1.020</td>\n",
       "      <td>1.30</td>\n",
       "      <td>2.080</td>\n",
       "      <td>0.070</td>\n",
       "      <td>32.5</td>\n",
       "      <td>15.69</td>\n",
       "      <td>...</td>\n",
       "      <td>8</td>\n",
       "      <td>9</td>\n",
       "      <td>11</td>\n",
       "      <td>14</td>\n",
       "      <td>18</td>\n",
       "      <td>8</td>\n",
       "      <td>11</td>\n",
       "      <td>4</td>\n",
       "      <td>5</td>\n",
       "      <td>0</td>\n",
       "    </tr>\n",
       "    <tr>\n",
       "      <td>52776</td>\n",
       "      <td>Isabelle</td>\n",
       "      <td>38.37</td>\n",
       "      <td>94</td>\n",
       "      <td>151</td>\n",
       "      <td>1.020</td>\n",
       "      <td>1.30</td>\n",
       "      <td>2.080</td>\n",
       "      <td>0.070</td>\n",
       "      <td>32.5</td>\n",
       "      <td>15.69</td>\n",
       "      <td>...</td>\n",
       "      <td>8</td>\n",
       "      <td>9</td>\n",
       "      <td>11</td>\n",
       "      <td>14</td>\n",
       "      <td>18</td>\n",
       "      <td>8</td>\n",
       "      <td>11</td>\n",
       "      <td>4</td>\n",
       "      <td>5</td>\n",
       "      <td>0</td>\n",
       "    </tr>\n",
       "    <tr>\n",
       "      <td>52777</td>\n",
       "      <td>Isabelle</td>\n",
       "      <td>38.37</td>\n",
       "      <td>94</td>\n",
       "      <td>151</td>\n",
       "      <td>1.020</td>\n",
       "      <td>1.30</td>\n",
       "      <td>2.080</td>\n",
       "      <td>0.070</td>\n",
       "      <td>32.5</td>\n",
       "      <td>15.69</td>\n",
       "      <td>...</td>\n",
       "      <td>8</td>\n",
       "      <td>9</td>\n",
       "      <td>11</td>\n",
       "      <td>14</td>\n",
       "      <td>18</td>\n",
       "      <td>8</td>\n",
       "      <td>11</td>\n",
       "      <td>4</td>\n",
       "      <td>5</td>\n",
       "      <td>0</td>\n",
       "    </tr>\n",
       "    <tr>\n",
       "      <td>52778</td>\n",
       "      <td>Isabelle</td>\n",
       "      <td>38.37</td>\n",
       "      <td>94</td>\n",
       "      <td>151</td>\n",
       "      <td>1.020</td>\n",
       "      <td>1.30</td>\n",
       "      <td>2.080</td>\n",
       "      <td>0.070</td>\n",
       "      <td>32.5</td>\n",
       "      <td>15.69</td>\n",
       "      <td>...</td>\n",
       "      <td>8</td>\n",
       "      <td>9</td>\n",
       "      <td>11</td>\n",
       "      <td>14</td>\n",
       "      <td>18</td>\n",
       "      <td>8</td>\n",
       "      <td>11</td>\n",
       "      <td>4</td>\n",
       "      <td>5</td>\n",
       "      <td>0</td>\n",
       "    </tr>\n",
       "    <tr>\n",
       "      <td>52779</td>\n",
       "      <td>Isabelle</td>\n",
       "      <td>38.37</td>\n",
       "      <td>94</td>\n",
       "      <td>151</td>\n",
       "      <td>1.020</td>\n",
       "      <td>1.30</td>\n",
       "      <td>2.080</td>\n",
       "      <td>0.070</td>\n",
       "      <td>32.5</td>\n",
       "      <td>15.69</td>\n",
       "      <td>...</td>\n",
       "      <td>8</td>\n",
       "      <td>9</td>\n",
       "      <td>11</td>\n",
       "      <td>14</td>\n",
       "      <td>18</td>\n",
       "      <td>8</td>\n",
       "      <td>11</td>\n",
       "      <td>4</td>\n",
       "      <td>5</td>\n",
       "      <td>0</td>\n",
       "    </tr>\n",
       "  </tbody>\n",
       "</table>\n",
       "<p>52780 rows × 32 columns</p>\n",
       "</div>"
      ],
      "text/plain": [
       "           Name  Percent  Wins  Losses  Air speed  Regular Fall  Fast Fall  \\\n",
       "0         Wario    59.32   541     371      1.271          1.61      2.576   \n",
       "1         Wario    59.32   541     371      1.271          1.61      2.576   \n",
       "2         Wario    59.32   541     371      1.271          1.61      2.576   \n",
       "3         Wario    59.32   541     371      1.271          1.61      2.576   \n",
       "4         Wario    59.32   541     371      1.271          1.61      2.576   \n",
       "...         ...      ...   ...     ...        ...           ...        ...   \n",
       "52775  Isabelle    38.37    94     151      1.020          1.30      2.080   \n",
       "52776  Isabelle    38.37    94     151      1.020          1.30      2.080   \n",
       "52777  Isabelle    38.37    94     151      1.020          1.30      2.080   \n",
       "52778  Isabelle    38.37    94     151      1.020          1.30      2.080   \n",
       "52779  Isabelle    38.37    94     151      1.020          1.30      2.080   \n",
       "\n",
       "       Gravity  Full Hop_x  Short Hop_x  ...  #1  #2  #3  Grab  \\\n",
       "0        0.107        30.5        14.70  ...   6   7   8     8   \n",
       "1        0.107        30.5        14.70  ...   6   7   8     8   \n",
       "2        0.107        30.5        14.70  ...   6   7   8     8   \n",
       "3        0.107        30.5        14.70  ...   6   7   8     8   \n",
       "4        0.107        30.5        14.70  ...   6   7   8     8   \n",
       "...        ...         ...          ...  ...  ..  ..  ..   ...   \n",
       "52775    0.070        32.5        15.69  ...   8   9  11    14   \n",
       "52776    0.070        32.5        15.69  ...   8   9  11    14   \n",
       "52777    0.070        32.5        15.69  ...   8   9  11    14   \n",
       "52778    0.070        32.5        15.69  ...   8   9  11    14   \n",
       "52779    0.070        32.5        15.69  ...   8   9  11    14   \n",
       "\n",
       "       Grab, Post-Shieldstun  Item Throw(Forward)  Item Throw(Back)  \\\n",
       "0                         12                   10                14   \n",
       "1                         12                   10                14   \n",
       "2                         12                   10                14   \n",
       "3                         12                   10                14   \n",
       "4                         12                   10                14   \n",
       "...                      ...                  ...               ...   \n",
       "52775                     18                    8                11   \n",
       "52776                     18                    8                11   \n",
       "52777                     18                    8                11   \n",
       "52778                     18                    8                11   \n",
       "52779                     18                    8                11   \n",
       "\n",
       "       Jump+Z-Drop (Front)  Jump+Z-Drop(Behind)  Result  \n",
       "0                        4                    5       1  \n",
       "1                        4                    5       1  \n",
       "2                        4                    5       1  \n",
       "3                        4                    5       1  \n",
       "4                        4                    5       1  \n",
       "...                    ...                  ...     ...  \n",
       "52775                    4                    5       0  \n",
       "52776                    4                    5       0  \n",
       "52777                    4                    5       0  \n",
       "52778                    4                    5       0  \n",
       "52779                    4                    5       0  \n",
       "\n",
       "[52780 rows x 32 columns]"
      ]
     },
     "execution_count": 628,
     "metadata": {},
     "output_type": "execute_result"
    }
   ],
   "source": [
    "final"
   ]
  },
  {
   "cell_type": "code",
   "execution_count": null,
   "metadata": {},
   "outputs": [],
   "source": []
  },
  {
   "cell_type": "code",
   "execution_count": 629,
   "metadata": {},
   "outputs": [],
   "source": [
    "alldata = alldata.replace('**', '0')\n",
    "\n",
    "\n",
    "#alldata['Full Hop_x'] = pd.to_numeric(alldata['Full Hop_x'])\n",
    "alldata['Initial Dash'] = pd.to_numeric(alldata['Initial Dash'])\n",
    "alldata['Air Jump'] = pd.to_numeric(alldata['Air Jump'])\n",
    "alldata['Short Hop_x'] = pd.to_numeric(alldata['Short Hop_x'])\n",
    "alldata['Slow (Full Dash)'] = pd.to_numeric(alldata['Slow (Full Dash)'].replace('??', '0'))\n",
    "alldata['Grab, Post-Shieldstun'] = pd.to_numeric(alldata['Grab, Post-Shieldstun'])\n",
    "alldata['Item Throw(Forward)'] = pd.to_numeric(alldata['Item Throw(Forward)'])\n",
    "alldata['Item Throw(Back)'] = pd.to_numeric(alldata['Item Throw(Back)'])\n",
    "alldata['Jump+Z-Drop (Front)'] = pd.to_numeric(alldata['Jump+Z-Drop (Front)'])\n",
    "alldata['Jump+Z-Drop(Behind)'] = pd.to_numeric(alldata['Jump+Z-Drop(Behind)'])"
   ]
  },
  {
   "cell_type": "code",
   "execution_count": 630,
   "metadata": {},
   "outputs": [],
   "source": [
    "alldata = alldata.select_dtypes(include=['int64', 'float'])"
   ]
  },
  {
   "cell_type": "code",
   "execution_count": null,
   "metadata": {},
   "outputs": [],
   "source": []
  },
  {
   "cell_type": "markdown",
   "metadata": {},
   "source": [
    "## Perform Machine Learning"
   ]
  },
  {
   "cell_type": "code",
   "execution_count": 631,
   "metadata": {},
   "outputs": [],
   "source": [
    "from sklearn.model_selection import train_test_split, cross_val_score\n",
    "from sklearn.linear_model import LogisticRegression\n",
    "from sklearn.ensemble import RandomForestClassifier\n",
    "from sklearn.linear_model import LinearRegression"
   ]
  },
  {
   "cell_type": "code",
   "execution_count": 632,
   "metadata": {},
   "outputs": [],
   "source": [
    "X = final.drop(['Name', 'Result', 'Wins', 'Losses', 'Percent', 'Full Hop_x'], axis = 1)\n",
    "y = final['Result']\n",
    "\n",
    "X_train, X_test, y_train, y_test = train_test_split(X, y, random_state = 801, test_size = .33)"
   ]
  },
  {
   "cell_type": "markdown",
   "metadata": {},
   "source": [
    "### Logistic Regression"
   ]
  },
  {
   "cell_type": "code",
   "execution_count": 633,
   "metadata": {},
   "outputs": [
    {
     "name": "stderr",
     "output_type": "stream",
     "text": [
      "/Users/cameronpage/opt/anaconda3/lib/python3.7/site-packages/sklearn/linear_model/logistic.py:947: ConvergenceWarning: lbfgs failed to converge. Increase the number of iterations.\n",
      "  \"of iterations.\", ConvergenceWarning)\n"
     ]
    },
    {
     "data": {
      "text/plain": [
       "LogisticRegression(C=1.0, class_weight=None, dual=False, fit_intercept=True,\n",
       "                   intercept_scaling=1, l1_ratio=None, max_iter=100,\n",
       "                   multi_class='warn', n_jobs=None, penalty='l2',\n",
       "                   random_state=None, solver='lbfgs', tol=0.0001, verbose=0,\n",
       "                   warm_start=False)"
      ]
     },
     "execution_count": 633,
     "metadata": {},
     "output_type": "execute_result"
    }
   ],
   "source": [
    "logreg = LogisticRegression(solver='lbfgs')\n",
    "logreg.fit(X_train, y_train)"
   ]
  },
  {
   "cell_type": "code",
   "execution_count": 634,
   "metadata": {},
   "outputs": [
    {
     "data": {
      "text/plain": [
       "0.5874382822367665"
      ]
     },
     "execution_count": 634,
     "metadata": {},
     "output_type": "execute_result"
    }
   ],
   "source": [
    "logreg.score(X_test, y_test)"
   ]
  },
  {
   "cell_type": "code",
   "execution_count": 635,
   "metadata": {},
   "outputs": [],
   "source": [
    "preds_logreg = logreg.predict_proba(alldata)"
   ]
  },
  {
   "cell_type": "code",
   "execution_count": 636,
   "metadata": {},
   "outputs": [],
   "source": [
    "win_prob_logreg = []\n",
    "for i in preds_logreg:\n",
    "    win_prob_logreg.append(i[1])\n",
    "\n",
    "alldata_logreg = alldata.copy()\n",
    "alldata_logreg['Win Probability'] = win_prob_logreg"
   ]
  },
  {
   "cell_type": "code",
   "execution_count": 637,
   "metadata": {},
   "outputs": [],
   "source": [
    "alldata_logreg.insert(0, value=alldata_names, column = 'Name')\n",
    "alldata_logreg = alldata_logreg.sort_values(by='Win Probability', ascending=True)"
   ]
  },
  {
   "cell_type": "code",
   "execution_count": 638,
   "metadata": {},
   "outputs": [],
   "source": [
    "alldata_logreg.insert(0, value = range(1,72), column = 'Score')"
   ]
  },
  {
   "cell_type": "markdown",
   "metadata": {},
   "source": [
    "### Random Forest"
   ]
  },
  {
   "cell_type": "code",
   "execution_count": 639,
   "metadata": {},
   "outputs": [],
   "source": [
    "rf = RandomForestClassifier(n_estimators = 150)"
   ]
  },
  {
   "cell_type": "code",
   "execution_count": 640,
   "metadata": {},
   "outputs": [
    {
     "data": {
      "text/plain": [
       "RandomForestClassifier(bootstrap=True, class_weight=None, criterion='gini',\n",
       "                       max_depth=None, max_features='auto', max_leaf_nodes=None,\n",
       "                       min_impurity_decrease=0.0, min_impurity_split=None,\n",
       "                       min_samples_leaf=1, min_samples_split=2,\n",
       "                       min_weight_fraction_leaf=0.0, n_estimators=150,\n",
       "                       n_jobs=None, oob_score=False, random_state=None,\n",
       "                       verbose=0, warm_start=False)"
      ]
     },
     "execution_count": 640,
     "metadata": {},
     "output_type": "execute_result"
    }
   ],
   "source": [
    "rf.fit(X_train, y_train)"
   ]
  },
  {
   "cell_type": "code",
   "execution_count": 641,
   "metadata": {},
   "outputs": [
    {
     "data": {
      "text/plain": [
       "0.5874382822367665"
      ]
     },
     "execution_count": 641,
     "metadata": {},
     "output_type": "execute_result"
    }
   ],
   "source": [
    "rf.score(X_test, y_test)"
   ]
  },
  {
   "cell_type": "code",
   "execution_count": 642,
   "metadata": {},
   "outputs": [],
   "source": [
    "rf.predict_proba(alldata)\n",
    "\n",
    "win_prob_rf = []\n",
    "for i in preds:\n",
    "    win_prob_rf.append(i[1])\n",
    "\n",
    "alldata_rf = alldata.copy()\n",
    "alldata_rf['Win Probability'] = win_prob_rf"
   ]
  },
  {
   "cell_type": "code",
   "execution_count": 643,
   "metadata": {},
   "outputs": [],
   "source": [
    "alldata_rf.insert(0, value=alldata_names, column = 'Name')\n",
    "alldata_rf = alldata_rf.sort_values(by='Win Probability', ascending=True)"
   ]
  },
  {
   "cell_type": "code",
   "execution_count": 644,
   "metadata": {},
   "outputs": [],
   "source": [
    "alldata_rf.insert(0, value = range(1,72), column = 'Score')"
   ]
  },
  {
   "cell_type": "code",
   "execution_count": 666,
   "metadata": {},
   "outputs": [
    {
     "data": {
      "text/html": [
       "<div>\n",
       "<style scoped>\n",
       "    .dataframe tbody tr th:only-of-type {\n",
       "        vertical-align: middle;\n",
       "    }\n",
       "\n",
       "    .dataframe tbody tr th {\n",
       "        vertical-align: top;\n",
       "    }\n",
       "\n",
       "    .dataframe thead th {\n",
       "        text-align: right;\n",
       "    }\n",
       "</style>\n",
       "<table border=\"1\" class=\"dataframe\">\n",
       "  <thead>\n",
       "    <tr style=\"text-align: right;\">\n",
       "      <th></th>\n",
       "      <th>Name</th>\n",
       "      <th>Win Probability</th>\n",
       "    </tr>\n",
       "  </thead>\n",
       "  <tbody>\n",
       "    <tr>\n",
       "      <td>49</td>\n",
       "      <td>Piranha Plant</td>\n",
       "      <td>0.607059</td>\n",
       "    </tr>\n",
       "    <tr>\n",
       "      <td>32</td>\n",
       "      <td>Dark Samus</td>\n",
       "      <td>0.605932</td>\n",
       "    </tr>\n",
       "    <tr>\n",
       "      <td>68</td>\n",
       "      <td>Ganondorf</td>\n",
       "      <td>0.604927</td>\n",
       "    </tr>\n",
       "    <tr>\n",
       "      <td>19</td>\n",
       "      <td>Bowser</td>\n",
       "      <td>0.603123</td>\n",
       "    </tr>\n",
       "    <tr>\n",
       "      <td>9</td>\n",
       "      <td>Greninja</td>\n",
       "      <td>0.602399</td>\n",
       "    </tr>\n",
       "    <tr>\n",
       "      <td>...</td>\n",
       "      <td>...</td>\n",
       "      <td>...</td>\n",
       "    </tr>\n",
       "    <tr>\n",
       "      <td>20</td>\n",
       "      <td>Duck Hunt</td>\n",
       "      <td>0.587719</td>\n",
       "    </tr>\n",
       "    <tr>\n",
       "      <td>16</td>\n",
       "      <td>Mr. Game &amp; Watch</td>\n",
       "      <td>0.587436</td>\n",
       "    </tr>\n",
       "    <tr>\n",
       "      <td>1</td>\n",
       "      <td>Jigglypuff</td>\n",
       "      <td>0.587361</td>\n",
       "    </tr>\n",
       "    <tr>\n",
       "      <td>67</td>\n",
       "      <td>Kirby</td>\n",
       "      <td>0.583947</td>\n",
       "    </tr>\n",
       "    <tr>\n",
       "      <td>64</td>\n",
       "      <td>Banjo &amp; Kazooie</td>\n",
       "      <td>0.555434</td>\n",
       "    </tr>\n",
       "  </tbody>\n",
       "</table>\n",
       "<p>71 rows × 2 columns</p>\n",
       "</div>"
      ],
      "text/plain": [
       "                Name  Win Probability\n",
       "49     Piranha Plant         0.607059\n",
       "32        Dark Samus         0.605932\n",
       "68         Ganondorf         0.604927\n",
       "19            Bowser         0.603123\n",
       "9           Greninja         0.602399\n",
       "..               ...              ...\n",
       "20         Duck Hunt         0.587719\n",
       "16  Mr. Game & Watch         0.587436\n",
       "1         Jigglypuff         0.587361\n",
       "67             Kirby         0.583947\n",
       "64   Banjo & Kazooie         0.555434\n",
       "\n",
       "[71 rows x 2 columns]"
      ]
     },
     "execution_count": 666,
     "metadata": {},
     "output_type": "execute_result"
    }
   ],
   "source": [
    "alldata_rf[['Name', 'Win Probability']].sort_values(by = 'Win Probability', ascending = False)"
   ]
  },
  {
   "cell_type": "markdown",
   "metadata": {},
   "source": [
    "### Linear Regression"
   ]
  },
  {
   "cell_type": "code",
   "execution_count": 645,
   "metadata": {},
   "outputs": [
    {
     "data": {
      "text/plain": [
       "LinearRegression(copy_X=True, fit_intercept=True, n_jobs=None, normalize=False)"
      ]
     },
     "execution_count": 645,
     "metadata": {},
     "output_type": "execute_result"
    }
   ],
   "source": [
    "lr = LinearRegression()\n",
    "lr.fit(X_train, y_train)"
   ]
  },
  {
   "cell_type": "code",
   "execution_count": 646,
   "metadata": {},
   "outputs": [],
   "source": [
    "preds_lr = lr.predict(alldata)"
   ]
  },
  {
   "cell_type": "code",
   "execution_count": 648,
   "metadata": {},
   "outputs": [],
   "source": [
    "lr.predict(alldata)\n",
    "\n",
    "win_prob_lr = []\n",
    "for i in preds_lr:\n",
    "    win_prob_lr.append(i)\n",
    "\n",
    "alldata_lr = alldata.copy()\n",
    "alldata_lr['Win Probability'] = win_prob_lr"
   ]
  },
  {
   "cell_type": "code",
   "execution_count": 649,
   "metadata": {},
   "outputs": [],
   "source": [
    "alldata_lr.insert(0, value=alldata_names, column = 'Name')\n",
    "alldata_lr = alldata_lr.sort_values(by='Win Probability', ascending=True)"
   ]
  },
  {
   "cell_type": "code",
   "execution_count": 650,
   "metadata": {},
   "outputs": [],
   "source": [
    "alldata_lr.insert(0, value = range(1,72), column = 'Score')"
   ]
  },
  {
   "cell_type": "markdown",
   "metadata": {},
   "source": [
    "### Calculate scores from all the models"
   ]
  },
  {
   "cell_type": "code",
   "execution_count": 652,
   "metadata": {},
   "outputs": [],
   "source": [
    "all_scores1 = alldata_logreg[['Score','Name']]\n",
    "all_scores2 = alldata_rf[['Score','Name']]\n",
    "all_scores3 = alldata_lr[['Score','Name']]\n",
    "\n",
    "all_scores = pd.merge(all_scores2, all_scores3, on = 'Name' )\n",
    "all_scores = pd.merge(all_scores1, all_scores)"
   ]
  },
  {
   "cell_type": "code",
   "execution_count": 653,
   "metadata": {},
   "outputs": [],
   "source": [
    "all_scores = all_scores.groupby('Name')['Score','Score_x', 'Score_y'].sum()\n",
    "all_scores = pd.DataFrame(all_scores['Score'] + all_scores['Score_x'] + all_scores['Score_y'])"
   ]
  },
  {
   "cell_type": "code",
   "execution_count": 654,
   "metadata": {},
   "outputs": [],
   "source": [
    "all_scores = all_scores.sort_values(by = 0, ascending=False)"
   ]
  },
  {
   "cell_type": "code",
   "execution_count": 655,
   "metadata": {},
   "outputs": [],
   "source": [
    "all_scores.insert(0, column = \"Rank\", value = range(1, 72))"
   ]
  },
  {
   "cell_type": "markdown",
   "metadata": {},
   "source": [
    "### Top 10"
   ]
  },
  {
   "cell_type": "code",
   "execution_count": 656,
   "metadata": {},
   "outputs": [],
   "source": [
    "all_scores.insert(0, value = alldata_names, column = 'Name')"
   ]
  },
  {
   "cell_type": "code",
   "execution_count": 657,
   "metadata": {},
   "outputs": [],
   "source": [
    "all_scores = all_scores.rename(columns={0:'Score'})"
   ]
  },
  {
   "cell_type": "code",
   "execution_count": 689,
   "metadata": {},
   "outputs": [
    {
     "data": {
      "text/html": [
       "<div>\n",
       "<style scoped>\n",
       "    .dataframe tbody tr th:only-of-type {\n",
       "        vertical-align: middle;\n",
       "    }\n",
       "\n",
       "    .dataframe tbody tr th {\n",
       "        vertical-align: top;\n",
       "    }\n",
       "\n",
       "    .dataframe thead th {\n",
       "        text-align: right;\n",
       "    }\n",
       "</style>\n",
       "<table border=\"1\" class=\"dataframe\">\n",
       "  <thead>\n",
       "    <tr style=\"text-align: right;\">\n",
       "      <th></th>\n",
       "      <th>Name</th>\n",
       "      <th>Rank</th>\n",
       "      <th>Score</th>\n",
       "    </tr>\n",
       "    <tr>\n",
       "      <th>Name</th>\n",
       "      <th></th>\n",
       "      <th></th>\n",
       "      <th></th>\n",
       "    </tr>\n",
       "  </thead>\n",
       "  <tbody>\n",
       "    <tr>\n",
       "      <td>Dark Samus</td>\n",
       "      <td>NaN</td>\n",
       "      <td>1</td>\n",
       "      <td>210</td>\n",
       "    </tr>\n",
       "    <tr>\n",
       "      <td>Piranha Plant</td>\n",
       "      <td>NaN</td>\n",
       "      <td>2</td>\n",
       "      <td>202</td>\n",
       "    </tr>\n",
       "    <tr>\n",
       "      <td>Bowser</td>\n",
       "      <td>NaN</td>\n",
       "      <td>3</td>\n",
       "      <td>199</td>\n",
       "    </tr>\n",
       "    <tr>\n",
       "      <td>Ryu</td>\n",
       "      <td>NaN</td>\n",
       "      <td>4</td>\n",
       "      <td>197</td>\n",
       "    </tr>\n",
       "    <tr>\n",
       "      <td>Greninja</td>\n",
       "      <td>NaN</td>\n",
       "      <td>5</td>\n",
       "      <td>196</td>\n",
       "    </tr>\n",
       "    <tr>\n",
       "      <td>Ken</td>\n",
       "      <td>NaN</td>\n",
       "      <td>6</td>\n",
       "      <td>191</td>\n",
       "    </tr>\n",
       "    <tr>\n",
       "      <td>Incineroar</td>\n",
       "      <td>NaN</td>\n",
       "      <td>7</td>\n",
       "      <td>189</td>\n",
       "    </tr>\n",
       "    <tr>\n",
       "      <td>Ganondorf</td>\n",
       "      <td>NaN</td>\n",
       "      <td>8</td>\n",
       "      <td>189</td>\n",
       "    </tr>\n",
       "    <tr>\n",
       "      <td>Captain Falcon</td>\n",
       "      <td>NaN</td>\n",
       "      <td>9</td>\n",
       "      <td>185</td>\n",
       "    </tr>\n",
       "    <tr>\n",
       "      <td>Pichu</td>\n",
       "      <td>NaN</td>\n",
       "      <td>10</td>\n",
       "      <td>180</td>\n",
       "    </tr>\n",
       "  </tbody>\n",
       "</table>\n",
       "</div>"
      ],
      "text/plain": [
       "               Name  Rank  Score\n",
       "Name                            \n",
       "Dark Samus      NaN     1    210\n",
       "Piranha Plant   NaN     2    202\n",
       "Bowser          NaN     3    199\n",
       "Ryu             NaN     4    197\n",
       "Greninja        NaN     5    196\n",
       "Ken             NaN     6    191\n",
       "Incineroar      NaN     7    189\n",
       "Ganondorf       NaN     8    189\n",
       "Captain Falcon  NaN     9    185\n",
       "Pichu           NaN    10    180"
      ]
     },
     "execution_count": 689,
     "metadata": {},
     "output_type": "execute_result"
    }
   ],
   "source": [
    "all_scores.head(10)"
   ]
  },
  {
   "cell_type": "code",
   "execution_count": 658,
   "metadata": {},
   "outputs": [
    {
     "data": {
      "text/plain": [
       "<matplotlib.axes._subplots.AxesSubplot at 0x1a4c0f0710>"
      ]
     },
     "execution_count": 658,
     "metadata": {},
     "output_type": "execute_result"
    },
    {
     "data": {
      "image/png": "[encoded data removed]",
      "text/plain": [
       "<Figure size 842.4x595.44 with 1 Axes>"
      ]
     },
     "metadata": {},
     "output_type": "display_data"
    }
   ],
   "source": [
    "sns.set(rc={'figure.figsize':(11.7,8.27)})\n",
    "sns.scatterplot(data=all_scores)"
   ]
  },
  {
   "cell_type": "code",
   "execution_count": 692,
   "metadata": {},
   "outputs": [
    {
     "data": {
      "text/plain": [
       "<matplotlib.axes._subplots.AxesSubplot at 0x1a3f4cf510>"
      ]
     },
     "execution_count": 692,
     "metadata": {},
     "output_type": "execute_result"
    },
    {
     "data": {
      "image/png": "[encoded data removed]",
      "text/plain": [
       "<Figure size 842.4x595.44 with 1 Axes>"
      ]
     },
     "metadata": {},
     "output_type": "display_data"
    }
   ],
   "source": [
    "sns.scatterplot(data=alldata_rf, x = 'Name', y = 'Win Probability')"
   ]
  },
  {
   "cell_type": "markdown",
   "metadata": {},
   "source": [
    "## Which features are the most important?"
   ]
  },
  {
   "cell_type": "code",
   "execution_count": 660,
   "metadata": {},
   "outputs": [],
   "source": [
    "from sklearn.feature_selection import SelectKBest\n",
    "from sklearn.feature_selection import chi2"
   ]
  },
  {
   "cell_type": "code",
   "execution_count": 663,
   "metadata": {},
   "outputs": [
    {
     "name": "stdout",
     "output_type": "stream",
     "text": [
      "                    Specs     Score\n",
      "10                 Weight  0.999642\n",
      "20                   Grab  0.304845\n",
      "21  Grab, Post-Shieldstun  0.206294\n",
      "6             Short Hop_y  0.179980\n",
      "7              Full Hop_y  0.136490\n",
      "18                     #2  0.060838\n",
      "15      Pivot Dash Frames  0.048078\n",
      "9            FH Fast Fall  0.046767\n",
      "5                Air Jump  0.042501\n",
      "8            SH Fast Fall  0.041479\n"
     ]
    }
   ],
   "source": [
    "#apply SelectKBest class to extract top 10 best features\n",
    "bestfeatures = SelectKBest(score_func=chi2, k=4)\n",
    "fit = bestfeatures.fit(X_train,y_train)\n",
    "dfscores = pd.DataFrame(fit.scores_)\n",
    "dfcolumns = pd.DataFrame(alldata.columns)\n",
    "#concat two dataframes for better visualization \n",
    "featureScores = pd.concat([dfcolumns,dfscores],axis=1)\n",
    "featureScores.columns = ['Specs','Score']  #naming the dataframe columns\n",
    "print(featureScores.nlargest(10,'Score'))  #print 10 best features"
   ]
  }
 ],
 "metadata": {
  "kernelspec": {
   "display_name": "Python 3",
   "language": "python",
   "name": "python3"
  },
  "language_info": {
   "codemirror_mode": {
    "name": "ipython",
    "version": 3
   },
   "file_extension": ".py",
   "mimetype": "text/x-python",
   "name": "python",
   "nbconvert_exporter": "python",
   "pygments_lexer": "ipython3",
   "version": "3.7.4"
  }
 },
 "nbformat": 4,
 "nbformat_minor": 2
}
